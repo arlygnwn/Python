{
  "nbformat": 4,
  "nbformat_minor": 0,
  "metadata": {
    "colab": {
      "name": "Tugas.ipynb",
      "provenance": [],
      "collapsed_sections": [],
      "mount_file_id": "https://github.com/arlygnwn/Python/blob/main/Tugas.ipynb",
      "authorship_tag": "ABX9TyNoUF4zBbAYaAYW4J16hJUB",
      "include_colab_link": true
    },
    "kernelspec": {
      "name": "python3",
      "display_name": "Python 3"
    }
  },
  "cells": [
    {
      "cell_type": "markdown",
      "metadata": {
        "id": "view-in-github",
        "colab_type": "text"
      },
      "source": [
        "<a href=\"https://colab.research.google.com/github/arlygnwn/Python/blob/main/Tugas.ipynb\" target=\"_parent\"><img src=\"https://colab.research.google.com/assets/colab-badge.svg\" alt=\"Open In Colab\"/></a>"
      ]
    },
    {
      "cell_type": "code",
      "metadata": {
        "colab": {
          "base_uri": "https://localhost:8080/"
        },
        "id": "q1EAosWTNJti",
        "outputId": "d1b840d2-f9c4-43d2-b9be-6e13507f7267"
      },
      "source": [
        "cd /content/drive/MyDrive/Colab Notebooks"
      ],
      "execution_count": 82,
      "outputs": [
        {
          "output_type": "stream",
          "text": [
            "/content/drive/MyDrive/Colab Notebooks\n"
          ],
          "name": "stdout"
        }
      ]
    },
    {
      "cell_type": "code",
      "metadata": {
        "colab": {
          "base_uri": "https://localhost:8080/"
        },
        "id": "hJRxhzgrNefb",
        "outputId": "230aec42-a1d7-4faa-8415-484328dfdf86"
      },
      "source": [
        "ls"
      ],
      "execution_count": 83,
      "outputs": [
        {
          "output_type": "stream",
          "text": [
            "images_test.jpg  \u001b[0m\u001b[01;34mNN\u001b[0m/  Tugas.ipynb\n"
          ],
          "name": "stdout"
        }
      ]
    },
    {
      "cell_type": "code",
      "metadata": {
        "id": "EFT7NvdJNgXr"
      },
      "source": [
        "# import the necessary packages\n",
        "from keras.models import Sequential\n",
        "from keras.layers.convolutional import Conv2D\n",
        "from keras.layers.convolutional import MaxPooling2D\n",
        "from keras.layers.core import Activation\n",
        "from keras.layers.core import Flatten\n",
        "from keras.layers.core import Dense\n",
        "from keras.optimizers import Adam\n",
        "from sklearn.preprocessing import LabelBinarizer\n",
        "from sklearn.model_selection import train_test_split\n",
        "from sklearn.metrics import classification_report\n",
        "from PIL import Image\n",
        "from imutils import paths\n",
        "import numpy as np\n",
        "import os"
      ],
      "execution_count": 84,
      "outputs": []
    },
    {
      "cell_type": "code",
      "metadata": {
        "colab": {
          "base_uri": "https://localhost:8080/"
        },
        "id": "o0X4Ti17Nihr",
        "outputId": "ac29a9ab-7575-4036-f8d2-0d6db7d87393"
      },
      "source": [
        "# grab all image paths in the input dataset directory, then initialize\n",
        "# our list of images and corresponding class labels\n",
        "print(\"[INFO] loading images...\")\n",
        "imagePaths = paths.list_images(\"NN\")\n",
        "data = []\n",
        "labels = []"
      ],
      "execution_count": 85,
      "outputs": [
        {
          "output_type": "stream",
          "text": [
            "[INFO] loading images...\n"
          ],
          "name": "stdout"
        }
      ]
    },
    {
      "cell_type": "code",
      "metadata": {
        "id": "tdJGtK63Npi0"
      },
      "source": [
        "# loop over our input images\n",
        "for imagePath in imagePaths:\n",
        "\t# load the input image from disk, resize it to 32x32 pixels, scale\n",
        "\t# the pixel intensities to the range [0, 1], and then update our\n",
        "\t# images list\n",
        "  image = Image.open(imagePath)\n",
        "  image = np.array(image.resize((32, 32))) / 255.0\n",
        "  data.append(image)\n",
        "\n",
        "\t# extract the class label from the file path and update the\n",
        "\t# labels list\n",
        "  label = imagePath.split(os.path.sep)[-2]\n",
        "  labels.append(label)"
      ],
      "execution_count": 86,
      "outputs": []
    },
    {
      "cell_type": "code",
      "metadata": {
        "colab": {
          "base_uri": "https://localhost:8080/"
        },
        "id": "9mAPMXsjNs5F",
        "outputId": "a1cc9327-c4ae-4681-e5af-563bf67d585d"
      },
      "source": [
        "print(labels)"
      ],
      "execution_count": 87,
      "outputs": [
        {
          "output_type": "stream",
          "text": [
            "['forest', 'forest', 'forest', 'forest', 'forest', 'forest', 'forest', 'forest', 'forest', 'forest', 'forest', 'forest', 'forest', 'forest', 'forest', 'forest', 'forest', 'forest', 'forest', 'forest', 'forest', 'forest', 'forest', 'forest', 'forest', 'forest', 'forest', 'forest', 'forest', 'forest', 'forest', 'forest', 'forest', 'forest', 'forest', 'forest', 'forest', 'forest', 'forest', 'forest', 'forest', 'forest', 'forest', 'forest', 'forest', 'forest', 'forest', 'forest', 'forest', 'forest', 'forest', 'forest', 'forest', 'forest', 'forest', 'forest', 'forest', 'forest', 'forest', 'forest', 'forest', 'forest', 'forest', 'forest', 'forest', 'forest', 'forest', 'forest', 'forest', 'forest', 'forest', 'forest', 'forest', 'forest', 'forest', 'forest', 'forest', 'forest', 'forest', 'forest', 'forest', 'forest', 'forest', 'forest', 'forest', 'forest', 'forest', 'forest', 'forest', 'forest', 'forest', 'forest', 'forest', 'forest', 'forest', 'forest', 'forest', 'forest', 'forest', 'forest', 'forest', 'forest', 'forest', 'forest', 'forest', 'forest', 'forest', 'forest', 'forest', 'forest', 'forest', 'forest', 'forest', 'forest', 'forest', 'forest', 'forest', 'forest', 'forest', 'forest', 'forest', 'forest', 'forest', 'forest', 'forest', 'forest', 'forest', 'forest', 'forest', 'forest', 'forest', 'forest', 'forest', 'forest', 'forest', 'forest', 'forest', 'forest', 'forest', 'forest', 'forest', 'forest', 'forest', 'forest', 'forest', 'forest', 'forest', 'forest', 'forest', 'forest', 'forest', 'forest', 'forest', 'forest', 'forest', 'forest', 'forest', 'forest', 'forest', 'forest', 'forest', 'forest', 'forest', 'forest', 'forest', 'forest', 'forest', 'forest', 'forest', 'forest', 'forest', 'forest', 'forest', 'forest', 'forest', 'forest', 'forest', 'forest', 'forest', 'forest', 'forest', 'forest', 'forest', 'forest', 'forest', 'forest', 'forest', 'forest', 'forest', 'forest', 'forest', 'forest', 'forest', 'forest', 'forest', 'forest', 'forest', 'forest', 'forest', 'forest', 'forest', 'forest', 'forest', 'forest', 'forest', 'forest', 'forest', 'forest', 'forest', 'forest', 'forest', 'forest', 'forest', 'forest', 'forest', 'forest', 'forest', 'forest', 'forest', 'forest', 'forest', 'forest', 'forest', 'forest', 'forest', 'forest', 'forest', 'forest', 'forest', 'forest', 'forest', 'forest', 'forest', 'forest', 'forest', 'forest', 'forest', 'forest', 'forest', 'forest', 'forest', 'forest', 'forest', 'forest', 'forest', 'forest', 'forest', 'forest', 'forest', 'forest', 'forest', 'forest', 'forest', 'forest', 'forest', 'forest', 'forest', 'forest', 'forest', 'forest', 'forest', 'forest', 'forest', 'forest', 'forest', 'forest', 'forest', 'forest', 'forest', 'forest', 'forest', 'forest', 'forest', 'forest', 'forest', 'forest', 'forest', 'forest', 'forest', 'forest', 'forest', 'forest', 'forest', 'forest', 'forest', 'forest', 'forest', 'forest', 'forest', 'forest', 'forest', 'forest', 'forest', 'forest', 'forest', 'forest', 'forest', 'forest', 'forest', 'forest', 'forest', 'forest', 'forest', 'forest', 'forest', 'forest', 'forest', 'forest', 'forest', 'forest', 'forest', 'forest', 'forest', 'forest', 'forest', 'forest', 'forest', 'forest', 'forest', 'forest', 'forest', 'forest', 'forest', 'forest', 'forest', 'forest', 'forest', 'forest', 'highway', 'highway', 'highway', 'highway', 'highway', 'highway', 'highway', 'highway', 'highway', 'highway', 'highway', 'highway', 'highway', 'highway', 'highway', 'highway', 'highway', 'highway', 'highway', 'highway', 'highway', 'highway', 'highway', 'highway', 'highway', 'highway', 'highway', 'highway', 'highway', 'highway', 'highway', 'highway', 'highway', 'highway', 'highway', 'highway', 'highway', 'highway', 'highway', 'highway', 'highway', 'highway', 'highway', 'highway', 'highway', 'highway', 'highway', 'highway', 'highway', 'highway', 'highway', 'highway', 'highway', 'highway', 'highway', 'highway', 'highway', 'highway', 'highway', 'highway', 'highway', 'highway', 'highway', 'highway', 'highway', 'highway', 'highway', 'highway', 'highway', 'highway', 'highway', 'highway', 'highway', 'highway', 'highway', 'highway', 'highway', 'highway', 'highway', 'highway', 'highway', 'highway', 'highway', 'highway', 'highway', 'highway', 'highway', 'highway', 'highway', 'highway', 'highway', 'highway', 'highway', 'highway', 'highway', 'highway', 'highway', 'highway', 'highway', 'highway', 'highway', 'highway', 'highway', 'highway', 'highway', 'highway', 'highway', 'highway', 'highway', 'highway', 'highway', 'highway', 'highway', 'highway', 'highway', 'highway', 'highway', 'highway', 'highway', 'highway', 'highway', 'highway', 'highway', 'highway', 'highway', 'highway', 'highway', 'highway', 'highway', 'highway', 'highway', 'highway', 'highway', 'highway', 'highway', 'highway', 'highway', 'highway', 'highway', 'highway', 'highway', 'highway', 'highway', 'highway', 'highway', 'highway', 'highway', 'highway', 'highway', 'highway', 'highway', 'highway', 'highway', 'highway', 'highway', 'highway', 'highway', 'highway', 'highway', 'highway', 'highway', 'highway', 'highway', 'highway', 'highway', 'highway', 'highway', 'highway', 'highway', 'highway', 'highway', 'highway', 'highway', 'highway', 'highway', 'highway', 'highway', 'highway', 'highway', 'highway', 'highway', 'highway', 'highway', 'highway', 'highway', 'highway', 'highway', 'highway', 'highway', 'highway', 'highway', 'highway', 'highway', 'highway', 'highway', 'highway', 'highway', 'highway', 'highway', 'highway', 'highway', 'highway', 'highway', 'highway', 'highway', 'highway', 'highway', 'highway', 'highway', 'highway', 'highway', 'highway', 'highway', 'highway', 'highway', 'highway', 'highway', 'highway', 'highway', 'highway', 'highway', 'highway', 'highway', 'highway', 'highway', 'highway', 'highway', 'highway', 'highway', 'highway', 'highway', 'highway', 'highway', 'highway', 'highway', 'highway', 'highway', 'highway', 'highway', 'highway', 'highway', 'highway', 'highway', 'highway', 'highway', 'highway', 'highway', 'highway', 'highway', 'highway', 'highway', 'highway', 'highway', 'highway', 'highway', 'highway', 'highway', 'highway', 'highway', 'highway', 'coast', 'coast', 'coast', 'coast', 'coast', 'coast', 'coast', 'coast', 'coast', 'coast', 'coast', 'coast', 'coast', 'coast', 'coast', 'coast', 'coast', 'coast', 'coast', 'coast', 'coast', 'coast', 'coast', 'coast', 'coast', 'coast', 'coast', 'coast', 'coast', 'coast', 'coast', 'coast', 'coast', 'coast', 'coast', 'coast', 'coast', 'coast', 'coast', 'coast', 'coast', 'coast', 'coast', 'coast', 'coast', 'coast', 'coast', 'coast', 'coast', 'coast', 'coast', 'coast', 'coast', 'coast', 'coast', 'coast', 'coast', 'coast', 'coast', 'coast', 'coast', 'coast', 'coast', 'coast', 'coast', 'coast', 'coast', 'coast', 'coast', 'coast', 'coast', 'coast', 'coast', 'coast', 'coast', 'coast', 'coast', 'coast', 'coast', 'coast', 'coast', 'coast', 'coast', 'coast', 'coast', 'coast', 'coast', 'coast', 'coast', 'coast', 'coast', 'coast', 'coast', 'coast', 'coast', 'coast', 'coast', 'coast', 'coast', 'coast', 'coast', 'coast', 'coast', 'coast', 'coast', 'coast', 'coast', 'coast', 'coast', 'coast', 'coast', 'coast', 'coast', 'coast', 'coast', 'coast', 'coast', 'coast', 'coast', 'coast', 'coast', 'coast', 'coast', 'coast', 'coast', 'coast', 'coast', 'coast', 'coast', 'coast', 'coast', 'coast', 'coast', 'coast', 'coast', 'coast', 'coast', 'coast', 'coast', 'coast', 'coast', 'coast', 'coast', 'coast', 'coast', 'coast', 'coast', 'coast', 'coast', 'coast', 'coast', 'coast', 'coast', 'coast', 'coast', 'coast', 'coast', 'coast', 'coast', 'coast', 'coast', 'coast', 'coast', 'coast', 'coast', 'coast', 'coast', 'coast', 'coast', 'coast', 'coast', 'coast', 'coast', 'coast', 'coast', 'coast', 'coast', 'coast', 'coast', 'coast', 'coast', 'coast', 'coast', 'coast', 'coast', 'coast', 'coast', 'coast', 'coast', 'coast', 'coast', 'coast', 'coast', 'coast', 'coast', 'coast', 'coast', 'coast', 'coast', 'coast', 'coast', 'coast', 'coast', 'coast', 'coast', 'coast', 'coast', 'coast', 'coast', 'coast', 'coast', 'coast', 'coast', 'coast', 'coast', 'coast', 'coast', 'coast', 'coast', 'coast', 'coast', 'coast', 'coast', 'coast', 'coast', 'coast', 'coast', 'coast', 'coast', 'coast', 'coast', 'coast', 'coast', 'coast', 'coast', 'coast', 'coast', 'coast', 'coast', 'coast', 'coast', 'coast', 'coast', 'coast', 'coast', 'coast', 'coast', 'coast', 'coast', 'coast', 'coast', 'coast', 'coast', 'coast', 'coast', 'coast', 'coast', 'coast', 'coast', 'coast', 'coast', 'coast', 'coast', 'coast', 'coast', 'coast', 'coast', 'coast', 'coast', 'coast', 'coast', 'coast', 'coast', 'coast', 'coast', 'coast', 'coast', 'coast', 'coast', 'coast', 'coast', 'coast', 'coast', 'coast', 'coast', 'coast', 'coast', 'coast', 'coast', 'coast', 'coast', 'coast', 'coast', 'coast', 'coast', 'coast', 'coast', 'coast', 'coast', 'coast', 'coast', 'coast', 'coast', 'coast', 'coast', 'coast', 'coast', 'coast', 'coast', 'coast', 'coast', 'coast', 'coast', 'coast', 'coast', 'coast', 'coast', 'coast', 'coast', 'coast', 'coast', 'coast', 'coast', 'coast', 'coast', 'coast', 'coast', 'coast', 'coast', 'coast', 'coast', 'coast', 'coast', 'coast', 'coast', 'coast', 'coast', 'coast', 'coast', 'coast', 'coast', 'coast', 'coast', 'coast', 'coast', 'coast', 'coast', 'coast', 'coast', 'coast', 'coast', 'coast', 'coast', 'coast', 'coast', 'coast', 'coast', 'coast', 'coast', 'coast']\n"
          ],
          "name": "stdout"
        }
      ]
    },
    {
      "cell_type": "code",
      "metadata": {
        "id": "iGyWk1zTOQjR"
      },
      "source": [
        "# encode the labels, converting them from strings to integers\n",
        "lb = LabelBinarizer()\n",
        "labels = lb.fit_transform(labels)"
      ],
      "execution_count": 88,
      "outputs": []
    },
    {
      "cell_type": "code",
      "metadata": {
        "colab": {
          "base_uri": "https://localhost:8080/"
        },
        "id": "YsEklQjKRYQa",
        "outputId": "5a78667a-071c-46b2-9907-3da311c5500b"
      },
      "source": [
        "print(labels)"
      ],
      "execution_count": 89,
      "outputs": [
        {
          "output_type": "stream",
          "text": [
            "[[0 1 0]\n",
            " [0 1 0]\n",
            " [0 1 0]\n",
            " ...\n",
            " [1 0 0]\n",
            " [1 0 0]\n",
            " [1 0 0]]\n"
          ],
          "name": "stdout"
        }
      ]
    },
    {
      "cell_type": "code",
      "metadata": {
        "colab": {
          "base_uri": "https://localhost:8080/"
        },
        "id": "tRlxOYVoRZhp",
        "outputId": "de93bdcc-8227-4ca0-805b-2f2e91c42f5e"
      },
      "source": [
        "# perform a training and testing split, using 75% of the data for\n",
        "# training and 25% for evaluation\n",
        "(trainX, testX, trainY, testY) = train_test_split(np.array(data),\tnp.array(labels), test_size=0.25)\n",
        "print(trainX.shape)\n",
        "print(testX.shape)"
      ],
      "execution_count": 90,
      "outputs": [
        {
          "output_type": "stream",
          "text": [
            "(711, 32, 32, 3)\n",
            "(237, 32, 32, 3)\n"
          ],
          "name": "stdout"
        }
      ]
    },
    {
      "cell_type": "code",
      "metadata": {
        "id": "UJyhlKNKSk6j"
      },
      "source": [
        "from keras.models import Sequential\n",
        "from keras.layers.core import Flatten\n",
        "from keras.layers.core import Dense\n",
        "\n",
        "model = Sequential(\n",
        "    [\n",
        "        Flatten(input_shape=(32*32*3,)),\n",
        "        Dense(32, activation=\"relu\", name=\"layer1\"),\n",
        "        Dense(64, activation=\"relu\", name=\"layer2\"),\n",
        "        Dense(128, activation=\"relu\", name=\"layer3\"),\n",
        "        Dense(128, activation=\"relu\", name=\"layer4\"),\n",
        "        Dense(64, activation=\"relu\", name=\"layer5\"),\n",
        "        Dense(32, activation=\"relu\", name=\"layer6\"),\n",
        "        Dense(3, activation = \"softmax\", name=\"layer7\"),\n",
        "    ]\n",
        ")"
      ],
      "execution_count": 136,
      "outputs": []
    },
    {
      "cell_type": "code",
      "metadata": {
        "colab": {
          "base_uri": "https://localhost:8080/"
        },
        "id": "6Y0nW34YSvu0",
        "outputId": "6a0ff5c7-88f2-4d6d-b49d-de6b26bfe427"
      },
      "source": [
        "model.summary()"
      ],
      "execution_count": 137,
      "outputs": [
        {
          "output_type": "stream",
          "text": [
            "Model: \"sequential_8\"\n",
            "_________________________________________________________________\n",
            "Layer (type)                 Output Shape              Param #   \n",
            "=================================================================\n",
            "flatten_8 (Flatten)          (None, 3072)              0         \n",
            "_________________________________________________________________\n",
            "layer1 (Dense)               (None, 32)                98336     \n",
            "_________________________________________________________________\n",
            "layer2 (Dense)               (None, 64)                2112      \n",
            "_________________________________________________________________\n",
            "layer3 (Dense)               (None, 128)               8320      \n",
            "_________________________________________________________________\n",
            "layer4 (Dense)               (None, 128)               16512     \n",
            "_________________________________________________________________\n",
            "layer5 (Dense)               (None, 64)                8256      \n",
            "_________________________________________________________________\n",
            "layer6 (Dense)               (None, 32)                2080      \n",
            "_________________________________________________________________\n",
            "layer7 (Dense)               (None, 3)                 99        \n",
            "=================================================================\n",
            "Total params: 135,715\n",
            "Trainable params: 135,715\n",
            "Non-trainable params: 0\n",
            "_________________________________________________________________\n"
          ],
          "name": "stdout"
        }
      ]
    },
    {
      "cell_type": "code",
      "metadata": {
        "colab": {
          "base_uri": "https://localhost:8080/"
        },
        "id": "aSdyRy99THRv",
        "outputId": "e285528d-20bb-479e-84b7-b51726d95c90"
      },
      "source": [
        "\n",
        "# train the model using the Adam optimizer\n",
        "print(\"[INFO] training network...\")\n",
        "opt = Adam(lr=1e-3, decay=1e-3 / 50)\n",
        "model.compile(loss=\"categorical_crossentropy\", optimizer=opt,\n",
        "\tmetrics=[\"accuracy\"])\n",
        "H = model.fit(trainX, trainY, validation_data=(testX, testY), epochs=35, batch_size=45,)"
      ],
      "execution_count": 138,
      "outputs": [
        {
          "output_type": "stream",
          "text": [
            "[INFO] training network...\n",
            "Epoch 1/35\n",
            "WARNING:tensorflow:Model was constructed with shape (None, 3072) for input Tensor(\"flatten_8_input:0\", shape=(None, 3072), dtype=float32), but it was called on an input with incompatible shape (None, 32, 32, 3).\n",
            "WARNING:tensorflow:Model was constructed with shape (None, 3072) for input Tensor(\"flatten_8_input:0\", shape=(None, 3072), dtype=float32), but it was called on an input with incompatible shape (None, 32, 32, 3).\n",
            "16/16 [==============================] - ETA: 0s - loss: 1.0328 - accuracy: 0.4487WARNING:tensorflow:Model was constructed with shape (None, 3072) for input Tensor(\"flatten_8_input:0\", shape=(None, 3072), dtype=float32), but it was called on an input with incompatible shape (None, 32, 32, 3).\n",
            "16/16 [==============================] - 0s 13ms/step - loss: 1.0328 - accuracy: 0.4487 - val_loss: 1.0615 - val_accuracy: 0.4852\n",
            "Epoch 2/35\n",
            "16/16 [==============================] - 0s 5ms/step - loss: 0.9211 - accuracy: 0.5767 - val_loss: 0.9035 - val_accuracy: 0.5654\n",
            "Epoch 3/35\n",
            "16/16 [==============================] - 0s 4ms/step - loss: 0.8788 - accuracy: 0.5612 - val_loss: 0.8330 - val_accuracy: 0.6245\n",
            "Epoch 4/35\n",
            "16/16 [==============================] - 0s 5ms/step - loss: 0.8137 - accuracy: 0.6343 - val_loss: 0.8021 - val_accuracy: 0.6624\n",
            "Epoch 5/35\n",
            "16/16 [==============================] - 0s 4ms/step - loss: 0.7018 - accuracy: 0.7243 - val_loss: 0.6918 - val_accuracy: 0.6962\n",
            "Epoch 6/35\n",
            "16/16 [==============================] - 0s 5ms/step - loss: 0.5899 - accuracy: 0.7834 - val_loss: 0.7042 - val_accuracy: 0.7004\n",
            "Epoch 7/35\n",
            "16/16 [==============================] - 0s 5ms/step - loss: 0.5548 - accuracy: 0.7848 - val_loss: 0.6791 - val_accuracy: 0.7089\n",
            "Epoch 8/35\n",
            "16/16 [==============================] - 0s 4ms/step - loss: 0.5689 - accuracy: 0.7722 - val_loss: 0.6132 - val_accuracy: 0.7637\n",
            "Epoch 9/35\n",
            "16/16 [==============================] - 0s 4ms/step - loss: 0.5222 - accuracy: 0.8129 - val_loss: 0.6390 - val_accuracy: 0.7595\n",
            "Epoch 10/35\n",
            "16/16 [==============================] - 0s 5ms/step - loss: 0.4810 - accuracy: 0.8214 - val_loss: 0.6185 - val_accuracy: 0.7679\n",
            "Epoch 11/35\n",
            "16/16 [==============================] - 0s 4ms/step - loss: 0.4275 - accuracy: 0.8523 - val_loss: 0.6492 - val_accuracy: 0.7722\n",
            "Epoch 12/35\n",
            "16/16 [==============================] - 0s 4ms/step - loss: 0.4352 - accuracy: 0.8312 - val_loss: 0.5868 - val_accuracy: 0.7932\n",
            "Epoch 13/35\n",
            "16/16 [==============================] - 0s 4ms/step - loss: 0.4070 - accuracy: 0.8608 - val_loss: 0.6929 - val_accuracy: 0.7300\n",
            "Epoch 14/35\n",
            "16/16 [==============================] - 0s 5ms/step - loss: 0.3890 - accuracy: 0.8481 - val_loss: 0.5816 - val_accuracy: 0.7890\n",
            "Epoch 15/35\n",
            "16/16 [==============================] - 0s 5ms/step - loss: 0.3505 - accuracy: 0.8594 - val_loss: 0.6161 - val_accuracy: 0.7890\n",
            "Epoch 16/35\n",
            "16/16 [==============================] - 0s 4ms/step - loss: 0.3178 - accuracy: 0.8875 - val_loss: 0.6372 - val_accuracy: 0.7468\n",
            "Epoch 17/35\n",
            "16/16 [==============================] - 0s 5ms/step - loss: 0.4507 - accuracy: 0.8200 - val_loss: 0.6302 - val_accuracy: 0.7257\n",
            "Epoch 18/35\n",
            "16/16 [==============================] - 0s 5ms/step - loss: 0.4616 - accuracy: 0.8017 - val_loss: 0.6296 - val_accuracy: 0.7806\n",
            "Epoch 19/35\n",
            "16/16 [==============================] - 0s 5ms/step - loss: 0.3318 - accuracy: 0.8776 - val_loss: 0.6427 - val_accuracy: 0.7848\n",
            "Epoch 20/35\n",
            "16/16 [==============================] - 0s 4ms/step - loss: 0.3527 - accuracy: 0.8579 - val_loss: 0.7432 - val_accuracy: 0.7511\n",
            "Epoch 21/35\n",
            "16/16 [==============================] - 0s 4ms/step - loss: 0.3786 - accuracy: 0.8664 - val_loss: 0.5614 - val_accuracy: 0.8059\n",
            "Epoch 22/35\n",
            "16/16 [==============================] - 0s 5ms/step - loss: 0.3104 - accuracy: 0.8889 - val_loss: 0.7052 - val_accuracy: 0.7764\n",
            "Epoch 23/35\n",
            "16/16 [==============================] - 0s 4ms/step - loss: 0.2656 - accuracy: 0.8973 - val_loss: 0.6172 - val_accuracy: 0.7890\n",
            "Epoch 24/35\n",
            "16/16 [==============================] - 0s 4ms/step - loss: 0.2644 - accuracy: 0.8959 - val_loss: 0.5792 - val_accuracy: 0.8017\n",
            "Epoch 25/35\n",
            "16/16 [==============================] - 0s 4ms/step - loss: 0.2582 - accuracy: 0.9030 - val_loss: 0.6751 - val_accuracy: 0.7553\n",
            "Epoch 26/35\n",
            "16/16 [==============================] - 0s 5ms/step - loss: 0.3131 - accuracy: 0.8692 - val_loss: 0.6414 - val_accuracy: 0.7806\n",
            "Epoch 27/35\n",
            "16/16 [==============================] - 0s 4ms/step - loss: 0.2264 - accuracy: 0.9142 - val_loss: 0.5849 - val_accuracy: 0.8354\n",
            "Epoch 28/35\n",
            "16/16 [==============================] - 0s 4ms/step - loss: 0.2248 - accuracy: 0.9114 - val_loss: 0.6239 - val_accuracy: 0.7975\n",
            "Epoch 29/35\n",
            "16/16 [==============================] - 0s 5ms/step - loss: 0.2533 - accuracy: 0.9044 - val_loss: 0.6249 - val_accuracy: 0.8059\n",
            "Epoch 30/35\n",
            "16/16 [==============================] - 0s 4ms/step - loss: 0.2543 - accuracy: 0.8973 - val_loss: 0.6885 - val_accuracy: 0.8059\n",
            "Epoch 31/35\n",
            "16/16 [==============================] - 0s 4ms/step - loss: 0.2058 - accuracy: 0.9339 - val_loss: 0.7506 - val_accuracy: 0.7848\n",
            "Epoch 32/35\n",
            "16/16 [==============================] - 0s 5ms/step - loss: 0.3411 - accuracy: 0.8594 - val_loss: 0.7456 - val_accuracy: 0.7764\n",
            "Epoch 33/35\n",
            "16/16 [==============================] - 0s 4ms/step - loss: 0.3132 - accuracy: 0.8608 - val_loss: 0.7176 - val_accuracy: 0.7932\n",
            "Epoch 34/35\n",
            "16/16 [==============================] - 0s 4ms/step - loss: 0.2368 - accuracy: 0.9128 - val_loss: 0.6378 - val_accuracy: 0.8017\n",
            "Epoch 35/35\n",
            "16/16 [==============================] - 0s 4ms/step - loss: 0.1721 - accuracy: 0.9339 - val_loss: 0.6608 - val_accuracy: 0.8143\n"
          ],
          "name": "stdout"
        }
      ]
    },
    {
      "cell_type": "code",
      "metadata": {
        "colab": {
          "base_uri": "https://localhost:8080/",
          "height": 590
        },
        "id": "pWyrCTSlURxN",
        "outputId": "b2bd39e1-5981-453b-a639-814cbd851f9b"
      },
      "source": [
        "import matplotlib.pyplot as plt\n",
        "\n",
        "print(H.history.keys())\n",
        "# summarize history for accuracy\n",
        "plt.plot(H.history['accuracy'])\n",
        "plt.plot(H.history['val_accuracy'])\n",
        "plt.title('model accuracy')\n",
        "plt.ylabel('accuracy')\n",
        "plt.xlabel('epoch')\n",
        "plt.legend(['train', 'test'], loc='upper left')\n",
        "plt.show()\n",
        "# summarize history for loss\n",
        "plt.plot(H.history['loss'])\n",
        "plt.plot(H.history['val_loss'])\n",
        "plt.title('model loss')\n",
        "plt.ylabel('loss')\n",
        "plt.xlabel('epoch')\n",
        "plt.legend(['train', 'test'], loc='upper left')\n",
        "plt.show()"
      ],
      "execution_count": 139,
      "outputs": [
        {
          "output_type": "stream",
          "text": [
            "dict_keys(['loss', 'accuracy', 'val_loss', 'val_accuracy'])\n"
          ],
          "name": "stdout"
        },
        {
          "output_type": "display_data",
          "data": {
            "image/png": "[encoded data removed]",
            "text/plain": [
              "<Figure size 432x288 with 1 Axes>"
            ]
          },
          "metadata": {
            "tags": [],
            "needs_background": "light"
          }
        },
        {
          "output_type": "display_data",
          "data": {
            "image/png": "[encoded data removed]",
            "text/plain": [
              "<Figure size 432x288 with 1 Axes>"
            ]
          },
          "metadata": {
            "tags": [],
            "needs_background": "light"
          }
        }
      ]
    },
    {
      "cell_type": "code",
      "metadata": {
        "colab": {
          "base_uri": "https://localhost:8080/"
        },
        "id": "7ZfKeDQwUqLN",
        "outputId": "e43bbce9-2385-4f51-9529-d4b2e3922a0f"
      },
      "source": [
        "# evaluate the network\n",
        "print(\"[INFO] evaluating network...\")\n",
        "predictions = model.predict(testX, batch_size=45)\n",
        "print(classification_report(testY.argmax(axis=1),\n",
        "\tpredictions.argmax(axis=1), target_names=lb.classes_))"
      ],
      "execution_count": 142,
      "outputs": [
        {
          "output_type": "stream",
          "text": [
            "[INFO] evaluating network...\n",
            "              precision    recall  f1-score   support\n",
            "\n",
            "       coast       0.80      0.83      0.82        89\n",
            "      forest       0.92      0.80      0.86        82\n",
            "     highway       0.73      0.80      0.76        66\n",
            "\n",
            "    accuracy                           0.81       237\n",
            "   macro avg       0.82      0.81      0.81       237\n",
            "weighted avg       0.82      0.81      0.82       237\n",
            "\n"
          ],
          "name": "stdout"
        }
      ]
    }
  ]
}