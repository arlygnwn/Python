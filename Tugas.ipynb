{
  "nbformat": 4,
  "nbformat_minor": 0,
  "metadata": {
    "colab": {
      "name": "Tugas.ipynb",
      "provenance": [],
      "collapsed_sections": [],
      "mount_file_id": "https://github.com/arlygnwn/Python/blob/main/Tugas.ipynb",
      "authorship_tag": "ABX9TyPGTSkQG6jLRxAVjN2AHYRL",
      "include_colab_link": true
    },
    "kernelspec": {
      "name": "python3",
      "display_name": "Python 3"
    }
  },
  "cells": [
    {
      "cell_type": "markdown",
      "metadata": {
        "id": "view-in-github",
        "colab_type": "text"
      },
      "source": [
        "<a href=\"https://colab.research.google.com/github/arlygnwn/Python/blob/main/Tugas.ipynb\" target=\"_parent\"><img src=\"https://colab.research.google.com/assets/colab-badge.svg\" alt=\"Open In Colab\"/></a>"
      ]
    },
    {
      "cell_type": "code",
      "metadata": {
        "colab": {
          "base_uri": "https://localhost:8080/"
        },
        "id": "q1EAosWTNJti",
        "outputId": "d1b840d2-f9c4-43d2-b9be-6e13507f7267"
      },
      "source": [
        "cd /content/drive/MyDrive/Colab Notebooks"
      ],
      "execution_count": null,
      "outputs": [
        {
          "output_type": "stream",
          "text": [
            "/content/drive/MyDrive/Colab Notebooks\n"
          ],
          "name": "stdout"
        }
      ]
    },
    {
      "cell_type": "code",
      "metadata": {
        "colab": {
          "base_uri": "https://localhost:8080/"
        },
        "id": "hJRxhzgrNefb",
        "outputId": "230aec42-a1d7-4faa-8415-484328dfdf86"
      },
      "source": [
        "ls"
      ],
      "execution_count": null,
      "outputs": [
        {
          "output_type": "stream",
          "text": [
            "images_test.jpg  \u001b[0m\u001b[01;34mNN\u001b[0m/  Tugas.ipynb\n"
          ],
          "name": "stdout"
        }
      ]
    },
    {
      "cell_type": "code",
      "metadata": {
        "id": "EFT7NvdJNgXr"
      },
      "source": [
        "# import the necessary packages\n",
        "from keras.models import Sequential\n",
        "from keras.layers.convolutional import Conv2D\n",
        "from keras.layers.convolutional import MaxPooling2D\n",
        "from keras.layers.core import Activation\n",
        "from keras.layers.core import Flatten\n",
        "from keras.layers.core import Dense\n",
        "from keras.optimizers import Adam\n",
        "from sklearn.preprocessing import LabelBinarizer\n",
        "from sklearn.model_selection import train_test_split\n",
        "from sklearn.metrics import classification_report\n",
        "from PIL import Image\n",
        "from imutils import paths\n",
        "import numpy as np\n",
        "import os"
      ],
      "execution_count": 144,
      "outputs": []
    },
    {
      "cell_type": "code",
      "metadata": {
        "colab": {
          "base_uri": "https://localhost:8080/"
        },
        "id": "o0X4Ti17Nihr",
        "outputId": "d7c326c9-07ff-48e8-8253-f5c2db8e28d9"
      },
      "source": [
        "# grab all image paths in the input dataset directory, then initialize\n",
        "# our list of images and corresponding class labels\n",
        "print(\"[INFO] loading images...\")\n",
        "imagePaths = paths.list_images(\"NN\")\n",
        "data = []\n",
        "labels = []"
      ],
      "execution_count": 145,
      "outputs": [
        {
          "output_type": "stream",
          "text": [
            "[INFO] loading images...\n"
          ],
          "name": "stdout"
        }
      ]
    },
    {
      "cell_type": "code",
      "metadata": {
        "id": "tdJGtK63Npi0"
      },
      "source": [
        "# loop over our input images\n",
        "for imagePath in imagePaths:\n",
        "\t# load the input image from disk, resize it to 32x32 pixels, scale\n",
        "\t# the pixel intensities to the range [0, 1], and then update our\n",
        "\t# images list\n",
        "  image = Image.open(imagePath)\n",
        "  image = np.array(image.resize((32, 32))) / 255.0\n",
        "  data.append(image)\n",
        "\n",
        "\t# extract the class label from the file path and update the\n",
        "\t# labels list\n",
        "  label = imagePath.split(os.path.sep)[-2]\n",
        "  labels.append(label)"
      ],
      "execution_count": 146,
      "outputs": []
    },
    {
      "cell_type": "code",
      "metadata": {
        "colab": {
          "base_uri": "https://localhost:8080/"
        },
        "id": "9mAPMXsjNs5F",
        "outputId": "a1cc9327-c4ae-4681-e5af-563bf67d585d"
      },
      "source": [
        "print(labels)"
      ],
      "execution_count": null,
      "outputs": [
        {
          "output_type": "stream",
          "text": [
            "['forest', 'forest', 'forest', 'forest', 'forest', 'forest', 'forest', 'forest', 'forest', 'forest', 'forest', 'forest', 'forest', 'forest', 'forest', 'forest', 'forest', 'forest', 'forest', 'forest', 'forest', 'forest', 'forest', 'forest', 'forest', 'forest', 'forest', 'forest', 'forest', 'forest', 'forest', 'forest', 'forest', 'forest', 'forest', 'forest', 'forest', 'forest', 'forest', 'forest', 'forest', 'forest', 'forest', 'forest', 'forest', 'forest', 'forest', 'forest', 'forest', 'forest', 'forest', 'forest', 'forest', 'forest', 'forest', 'forest', 'forest', 'forest', 'forest', 'forest', 'forest', 'forest', 'forest', 'forest', 'forest', 'forest', 'forest', 'forest', 'forest', 'forest', 'forest', 'forest', 'forest', 'forest', 'forest', 'forest', 'forest', 'forest', 'forest', 'forest', 'forest', 'forest', 'forest', 'forest', 'forest', 'forest', 'forest', 'forest', 'forest', 'forest', 'forest', 'forest', 'forest', 'forest', 'forest', 'forest', 'forest', 'forest', 'forest', 'forest', 'forest', 'forest', 'forest', 'forest', 'forest', 'forest', 'forest', 'forest', 'forest', 'forest', 'forest', 'forest', 'forest', 'forest', 'forest', 'forest', 'forest', 'forest', 'forest', 'forest', 'forest', 'forest', 'forest', 'forest', 'forest', 'forest', 'forest', 'forest', 'forest', 'forest', 'forest', 'forest', 'forest', 'forest', 'forest', 'forest', 'forest', 'forest', 'forest', 'forest', 'forest', 'forest', 'forest', 'forest', 'forest', 'forest', 'forest', 'forest', 'forest', 'forest', 'forest', 'forest', 'forest', 'forest', 'forest', 'forest', 'forest', 'forest', 'forest', 'forest', 'forest', 'forest', 'forest', 'forest', 'forest', 'forest', 'forest', 'forest', 'forest', 'forest', 'forest', 'forest', 'forest', 'forest', 'forest', 'forest', 'forest', 'forest', 'forest', 'forest', 'forest', 'forest', 'forest', 'forest', 'forest', 'forest', 'forest', 'forest', 'forest', 'forest', 'forest', 'forest', 'forest', 'forest', 'forest', 'forest', 'forest', 'forest', 'forest', 'forest', 'forest', 'forest', 'forest', 'forest', 'forest', 'forest', 'forest', 'forest', 'forest', 'forest', 'forest', 'forest', 'forest', 'forest', 'forest', 'forest', 'forest', 'forest', 'forest', 'forest', 'forest', 'forest', 'forest', 'forest', 'forest', 'forest', 'forest', 'forest', 'forest', 'forest', 'forest', 'forest', 'forest', 'forest', 'forest', 'forest', 'forest', 'forest', 'forest', 'forest', 'forest', 'forest', 'forest', 'forest', 'forest', 'forest', 'forest', 'forest', 'forest', 'forest', 'forest', 'forest', 'forest', 'forest', 'forest', 'forest', 'forest', 'forest', 'forest', 'forest', 'forest', 'forest', 'forest', 'forest', 'forest', 'forest', 'forest', 'forest', 'forest', 'forest', 'forest', 'forest', 'forest', 'forest', 'forest', 'forest', 'forest', 'forest', 'forest', 'forest', 'forest', 'forest', 'forest', 'forest', 'forest', 'forest', 'forest', 'forest', 'forest', 'forest', 'forest', 'forest', 'forest', 'forest', 'forest', 'forest', 'forest', 'forest', 'forest', 'forest', 'forest', 'forest', 'forest', 'forest', 'forest', 'forest', 'forest', 'forest', 'forest', 'forest', 'forest', 'forest', 'forest', 'forest', 'forest', 'forest', 'forest', 'forest', 'forest', 'forest', 'forest', 'forest', 'forest', 'forest', 'forest', 'forest', 'forest', 'forest', 'highway', 'highway', 'highway', 'highway', 'highway', 'highway', 'highway', 'highway', 'highway', 'highway', 'highway', 'highway', 'highway', 'highway', 'highway', 'highway', 'highway', 'highway', 'highway', 'highway', 'highway', 'highway', 'highway', 'highway', 'highway', 'highway', 'highway', 'highway', 'highway', 'highway', 'highway', 'highway', 'highway', 'highway', 'highway', 'highway', 'highway', 'highway', 'highway', 'highway', 'highway', 'highway', 'highway', 'highway', 'highway', 'highway', 'highway', 'highway', 'highway', 'highway', 'highway', 'highway', 'highway', 'highway', 'highway', 'highway', 'highway', 'highway', 'highway', 'highway', 'highway', 'highway', 'highway', 'highway', 'highway', 'highway', 'highway', 'highway', 'highway', 'highway', 'highway', 'highway', 'highway', 'highway', 'highway', 'highway', 'highway', 'highway', 'highway', 'highway', 'highway', 'highway', 'highway', 'highway', 'highway', 'highway', 'highway', 'highway', 'highway', 'highway', 'highway', 'highway', 'highway', 'highway', 'highway', 'highway', 'highway', 'highway', 'highway', 'highway', 'highway', 'highway', 'highway', 'highway', 'highway', 'highway', 'highway', 'highway', 'highway', 'highway', 'highway', 'highway', 'highway', 'highway', 'highway', 'highway', 'highway', 'highway', 'highway', 'highway', 'highway', 'highway', 'highway', 'highway', 'highway', 'highway', 'highway', 'highway', 'highway', 'highway', 'highway', 'highway', 'highway', 'highway', 'highway', 'highway', 'highway', 'highway', 'highway', 'highway', 'highway', 'highway', 'highway', 'highway', 'highway', 'highway', 'highway', 'highway', 'highway', 'highway', 'highway', 'highway', 'highway', 'highway', 'highway', 'highway', 'highway', 'highway', 'highway', 'highway', 'highway', 'highway', 'highway', 'highway', 'highway', 'highway', 'highway', 'highway', 'highway', 'highway', 'highway', 'highway', 'highway', 'highway', 'highway', 'highway', 'highway', 'highway', 'highway', 'highway', 'highway', 'highway', 'highway', 'highway', 'highway', 'highway', 'highway', 'highway', 'highway', 'highway', 'highway', 'highway', 'highway', 'highway', 'highway', 'highway', 'highway', 'highway', 'highway', 'highway', 'highway', 'highway', 'highway', 'highway', 'highway', 'highway', 'highway', 'highway', 'highway', 'highway', 'highway', 'highway', 'highway', 'highway', 'highway', 'highway', 'highway', 'highway', 'highway', 'highway', 'highway', 'highway', 'highway', 'highway', 'highway', 'highway', 'highway', 'highway', 'highway', 'highway', 'highway', 'highway', 'highway', 'highway', 'highway', 'highway', 'highway', 'highway', 'highway', 'highway', 'highway', 'highway', 'highway', 'highway', 'highway', 'highway', 'highway', 'highway', 'highway', 'highway', 'highway', 'highway', 'highway', 'highway', 'highway', 'highway', 'highway', 'highway', 'highway', 'highway', 'coast', 'coast', 'coast', 'coast', 'coast', 'coast', 'coast', 'coast', 'coast', 'coast', 'coast', 'coast', 'coast', 'coast', 'coast', 'coast', 'coast', 'coast', 'coast', 'coast', 'coast', 'coast', 'coast', 'coast', 'coast', 'coast', 'coast', 'coast', 'coast', 'coast', 'coast', 'coast', 'coast', 'coast', 'coast', 'coast', 'coast', 'coast', 'coast', 'coast', 'coast', 'coast', 'coast', 'coast', 'coast', 'coast', 'coast', 'coast', 'coast', 'coast', 'coast', 'coast', 'coast', 'coast', 'coast', 'coast', 'coast', 'coast', 'coast', 'coast', 'coast', 'coast', 'coast', 'coast', 'coast', 'coast', 'coast', 'coast', 'coast', 'coast', 'coast', 'coast', 'coast', 'coast', 'coast', 'coast', 'coast', 'coast', 'coast', 'coast', 'coast', 'coast', 'coast', 'coast', 'coast', 'coast', 'coast', 'coast', 'coast', 'coast', 'coast', 'coast', 'coast', 'coast', 'coast', 'coast', 'coast', 'coast', 'coast', 'coast', 'coast', 'coast', 'coast', 'coast', 'coast', 'coast', 'coast', 'coast', 'coast', 'coast', 'coast', 'coast', 'coast', 'coast', 'coast', 'coast', 'coast', 'coast', 'coast', 'coast', 'coast', 'coast', 'coast', 'coast', 'coast', 'coast', 'coast', 'coast', 'coast', 'coast', 'coast', 'coast', 'coast', 'coast', 'coast', 'coast', 'coast', 'coast', 'coast', 'coast', 'coast', 'coast', 'coast', 'coast', 'coast', 'coast', 'coast', 'coast', 'coast', 'coast', 'coast', 'coast', 'coast', 'coast', 'coast', 'coast', 'coast', 'coast', 'coast', 'coast', 'coast', 'coast', 'coast', 'coast', 'coast', 'coast', 'coast', 'coast', 'coast', 'coast', 'coast', 'coast', 'coast', 'coast', 'coast', 'coast', 'coast', 'coast', 'coast', 'coast', 'coast', 'coast', 'coast', 'coast', 'coast', 'coast', 'coast', 'coast', 'coast', 'coast', 'coast', 'coast', 'coast', 'coast', 'coast', 'coast', 'coast', 'coast', 'coast', 'coast', 'coast', 'coast', 'coast', 'coast', 'coast', 'coast', 'coast', 'coast', 'coast', 'coast', 'coast', 'coast', 'coast', 'coast', 'coast', 'coast', 'coast', 'coast', 'coast', 'coast', 'coast', 'coast', 'coast', 'coast', 'coast', 'coast', 'coast', 'coast', 'coast', 'coast', 'coast', 'coast', 'coast', 'coast', 'coast', 'coast', 'coast', 'coast', 'coast', 'coast', 'coast', 'coast', 'coast', 'coast', 'coast', 'coast', 'coast', 'coast', 'coast', 'coast', 'coast', 'coast', 'coast', 'coast', 'coast', 'coast', 'coast', 'coast', 'coast', 'coast', 'coast', 'coast', 'coast', 'coast', 'coast', 'coast', 'coast', 'coast', 'coast', 'coast', 'coast', 'coast', 'coast', 'coast', 'coast', 'coast', 'coast', 'coast', 'coast', 'coast', 'coast', 'coast', 'coast', 'coast', 'coast', 'coast', 'coast', 'coast', 'coast', 'coast', 'coast', 'coast', 'coast', 'coast', 'coast', 'coast', 'coast', 'coast', 'coast', 'coast', 'coast', 'coast', 'coast', 'coast', 'coast', 'coast', 'coast', 'coast', 'coast', 'coast', 'coast', 'coast', 'coast', 'coast', 'coast', 'coast', 'coast', 'coast', 'coast', 'coast', 'coast', 'coast', 'coast', 'coast', 'coast', 'coast', 'coast', 'coast', 'coast', 'coast', 'coast', 'coast', 'coast', 'coast', 'coast', 'coast', 'coast', 'coast', 'coast', 'coast', 'coast', 'coast', 'coast', 'coast', 'coast', 'coast', 'coast', 'coast', 'coast', 'coast', 'coast', 'coast', 'coast', 'coast', 'coast', 'coast', 'coast', 'coast', 'coast', 'coast']\n"
          ],
          "name": "stdout"
        }
      ]
    },
    {
      "cell_type": "code",
      "metadata": {
        "id": "iGyWk1zTOQjR"
      },
      "source": [
        "# encode the labels, converting them from strings to integers\n",
        "lb = LabelBinarizer()\n",
        "labels = lb.fit_transform(labels)"
      ],
      "execution_count": null,
      "outputs": []
    },
    {
      "cell_type": "code",
      "metadata": {
        "colab": {
          "base_uri": "https://localhost:8080/"
        },
        "id": "YsEklQjKRYQa",
        "outputId": "5a78667a-071c-46b2-9907-3da311c5500b"
      },
      "source": [
        "print(labels)"
      ],
      "execution_count": null,
      "outputs": [
        {
          "output_type": "stream",
          "text": [
            "[[0 1 0]\n",
            " [0 1 0]\n",
            " [0 1 0]\n",
            " ...\n",
            " [1 0 0]\n",
            " [1 0 0]\n",
            " [1 0 0]]\n"
          ],
          "name": "stdout"
        }
      ]
    },
    {
      "cell_type": "code",
      "metadata": {
        "colab": {
          "base_uri": "https://localhost:8080/"
        },
        "id": "tRlxOYVoRZhp",
        "outputId": "de93bdcc-8227-4ca0-805b-2f2e91c42f5e"
      },
      "source": [
        "# perform a training and testing split, using 75% of the data for\n",
        "# training and 25% for evaluation\n",
        "(trainX, testX, trainY, testY) = train_test_split(np.array(data),\tnp.array(labels), test_size=0.25)\n",
        "print(trainX.shape)\n",
        "print(testX.shape)"
      ],
      "execution_count": null,
      "outputs": [
        {
          "output_type": "stream",
          "text": [
            "(711, 32, 32, 3)\n",
            "(237, 32, 32, 3)\n"
          ],
          "name": "stdout"
        }
      ]
    },
    {
      "cell_type": "code",
      "metadata": {
        "id": "UJyhlKNKSk6j"
      },
      "source": [
        "from keras.models import Sequential\n",
        "from keras.layers.core import Flatten\n",
        "from keras.layers.core import Dense\n",
        "\n",
        "model = Sequential(\n",
        "    [\n",
        "        Flatten(input_shape=(32*32*3,)),\n",
        "        Dense(64, activation=\"relu\", name=\"layer1\"),\n",
        "        Dense(64, activation=\"relu\", name=\"layer2\"),\n",
        "        Dense(256, activation=\"relu\", name=\"layer3\"),\n",
        "        Dense(256, activation=\"relu\", name=\"layer4\"),\n",
        "        Dense(128, activation=\"relu\", name=\"layer5\"),\n",
        "        Dense(128, activation=\"relu\", name=\"layer6\"),\n",
        "        Dense(3, activation = \"softmax\", name=\"layer7\"),\n",
        "    ]\n",
        ")"
      ],
      "execution_count": 162,
      "outputs": []
    },
    {
      "cell_type": "code",
      "metadata": {
        "colab": {
          "base_uri": "https://localhost:8080/"
        },
        "id": "6Y0nW34YSvu0",
        "outputId": "1a3a3f23-0851-4770-b6fe-e426c669862a"
      },
      "source": [
        "model.summary()"
      ],
      "execution_count": 163,
      "outputs": [
        {
          "output_type": "stream",
          "text": [
            "Model: \"sequential_11\"\n",
            "_________________________________________________________________\n",
            "Layer (type)                 Output Shape              Param #   \n",
            "=================================================================\n",
            "flatten_11 (Flatten)         (None, 3072)              0         \n",
            "_________________________________________________________________\n",
            "layer1 (Dense)               (None, 64)                196672    \n",
            "_________________________________________________________________\n",
            "layer2 (Dense)               (None, 64)                4160      \n",
            "_________________________________________________________________\n",
            "layer3 (Dense)               (None, 256)               16640     \n",
            "_________________________________________________________________\n",
            "layer4 (Dense)               (None, 256)               65792     \n",
            "_________________________________________________________________\n",
            "layer5 (Dense)               (None, 128)               32896     \n",
            "_________________________________________________________________\n",
            "layer6 (Dense)               (None, 128)               16512     \n",
            "_________________________________________________________________\n",
            "layer7 (Dense)               (None, 3)                 387       \n",
            "=================================================================\n",
            "Total params: 333,059\n",
            "Trainable params: 333,059\n",
            "Non-trainable params: 0\n",
            "_________________________________________________________________\n"
          ],
          "name": "stdout"
        }
      ]
    },
    {
      "cell_type": "code",
      "metadata": {
        "colab": {
          "base_uri": "https://localhost:8080/"
        },
        "id": "aSdyRy99THRv",
        "outputId": "5ae0a3d7-e8bd-4554-912c-bcd3a44afd56"
      },
      "source": [
        "\n",
        "# train the model using the Adam optimizer\n",
        "print(\"[INFO] training network...\")\n",
        "opt = Adam(lr=1e-3, decay=1e-3 / 50)\n",
        "model.compile(loss=\"categorical_crossentropy\", optimizer=opt,\n",
        "\tmetrics=[\"accuracy\"])\n",
        "H = model.fit(trainX, trainY, validation_data=(testX, testY), epochs=50, batch_size=55,)"
      ],
      "execution_count": 164,
      "outputs": [
        {
          "output_type": "stream",
          "text": [
            "[INFO] training network...\n",
            "Epoch 1/50\n",
            "WARNING:tensorflow:Model was constructed with shape (None, 3072) for input Tensor(\"flatten_11_input:0\", shape=(None, 3072), dtype=float32), but it was called on an input with incompatible shape (None, 32, 32, 3).\n",
            "WARNING:tensorflow:Model was constructed with shape (None, 3072) for input Tensor(\"flatten_11_input:0\", shape=(None, 3072), dtype=float32), but it was called on an input with incompatible shape (None, 32, 32, 3).\n",
            "10/13 [======================>.......] - ETA: 0s - loss: 1.0627 - accuracy: 0.4055WARNING:tensorflow:Model was constructed with shape (None, 3072) for input Tensor(\"flatten_11_input:0\", shape=(None, 3072), dtype=float32), but it was called on an input with incompatible shape (None, 32, 32, 3).\n",
            "13/13 [==============================] - 0s 18ms/step - loss: 1.0389 - accuracy: 0.4093 - val_loss: 1.0168 - val_accuracy: 0.5190\n",
            "Epoch 2/50\n",
            "13/13 [==============================] - 0s 8ms/step - loss: 0.9443 - accuracy: 0.5148 - val_loss: 0.9017 - val_accuracy: 0.5570\n",
            "Epoch 3/50\n",
            "13/13 [==============================] - 0s 7ms/step - loss: 0.8214 - accuracy: 0.6118 - val_loss: 0.8083 - val_accuracy: 0.6878\n",
            "Epoch 4/50\n",
            "13/13 [==============================] - 0s 8ms/step - loss: 0.7933 - accuracy: 0.6385 - val_loss: 0.8146 - val_accuracy: 0.5949\n",
            "Epoch 5/50\n",
            "13/13 [==============================] - 0s 7ms/step - loss: 0.8020 - accuracy: 0.6174 - val_loss: 0.8563 - val_accuracy: 0.5949\n",
            "Epoch 6/50\n",
            "13/13 [==============================] - 0s 7ms/step - loss: 0.6971 - accuracy: 0.6681 - val_loss: 0.6739 - val_accuracy: 0.7848\n",
            "Epoch 7/50\n",
            "13/13 [==============================] - 0s 8ms/step - loss: 0.5678 - accuracy: 0.7693 - val_loss: 0.6687 - val_accuracy: 0.7890\n",
            "Epoch 8/50\n",
            "13/13 [==============================] - 0s 7ms/step - loss: 0.5296 - accuracy: 0.7890 - val_loss: 0.5870 - val_accuracy: 0.7511\n",
            "Epoch 9/50\n",
            "13/13 [==============================] - 0s 7ms/step - loss: 0.4748 - accuracy: 0.8143 - val_loss: 0.6558 - val_accuracy: 0.7764\n",
            "Epoch 10/50\n",
            "13/13 [==============================] - 0s 8ms/step - loss: 0.4509 - accuracy: 0.8354 - val_loss: 0.6631 - val_accuracy: 0.7511\n",
            "Epoch 11/50\n",
            "13/13 [==============================] - 0s 8ms/step - loss: 0.5140 - accuracy: 0.7918 - val_loss: 0.6114 - val_accuracy: 0.7426\n",
            "Epoch 12/50\n",
            "13/13 [==============================] - 0s 8ms/step - loss: 0.4607 - accuracy: 0.8228 - val_loss: 0.5694 - val_accuracy: 0.7764\n",
            "Epoch 13/50\n",
            "13/13 [==============================] - 0s 8ms/step - loss: 0.4012 - accuracy: 0.8551 - val_loss: 0.5838 - val_accuracy: 0.7806\n",
            "Epoch 14/50\n",
            "13/13 [==============================] - 0s 7ms/step - loss: 0.3563 - accuracy: 0.8664 - val_loss: 0.5677 - val_accuracy: 0.8101\n",
            "Epoch 15/50\n",
            "13/13 [==============================] - 0s 8ms/step - loss: 0.3601 - accuracy: 0.8692 - val_loss: 0.6789 - val_accuracy: 0.7595\n",
            "Epoch 16/50\n",
            "13/13 [==============================] - 0s 8ms/step - loss: 0.3154 - accuracy: 0.8945 - val_loss: 0.5691 - val_accuracy: 0.8017\n",
            "Epoch 17/50\n",
            "13/13 [==============================] - 0s 8ms/step - loss: 0.4057 - accuracy: 0.8579 - val_loss: 0.6156 - val_accuracy: 0.7722\n",
            "Epoch 18/50\n",
            "13/13 [==============================] - 0s 7ms/step - loss: 0.3567 - accuracy: 0.8762 - val_loss: 0.5785 - val_accuracy: 0.8017\n",
            "Epoch 19/50\n",
            "13/13 [==============================] - 0s 8ms/step - loss: 0.3125 - accuracy: 0.8889 - val_loss: 0.5727 - val_accuracy: 0.8059\n",
            "Epoch 20/50\n",
            "13/13 [==============================] - 0s 9ms/step - loss: 0.2994 - accuracy: 0.8903 - val_loss: 0.5902 - val_accuracy: 0.7890\n",
            "Epoch 21/50\n",
            "13/13 [==============================] - 0s 8ms/step - loss: 0.2742 - accuracy: 0.9058 - val_loss: 0.6307 - val_accuracy: 0.7848\n",
            "Epoch 22/50\n",
            "13/13 [==============================] - 0s 8ms/step - loss: 0.2341 - accuracy: 0.9198 - val_loss: 0.6373 - val_accuracy: 0.7890\n",
            "Epoch 23/50\n",
            "13/13 [==============================] - 0s 8ms/step - loss: 0.2807 - accuracy: 0.8903 - val_loss: 0.6401 - val_accuracy: 0.7975\n",
            "Epoch 24/50\n",
            "13/13 [==============================] - 0s 8ms/step - loss: 0.3229 - accuracy: 0.8819 - val_loss: 0.6104 - val_accuracy: 0.8059\n",
            "Epoch 25/50\n",
            "13/13 [==============================] - 0s 8ms/step - loss: 0.3736 - accuracy: 0.8551 - val_loss: 0.6792 - val_accuracy: 0.7722\n",
            "Epoch 26/50\n",
            "13/13 [==============================] - 0s 8ms/step - loss: 0.3149 - accuracy: 0.8903 - val_loss: 0.7149 - val_accuracy: 0.7848\n",
            "Epoch 27/50\n",
            "13/13 [==============================] - 0s 8ms/step - loss: 0.3480 - accuracy: 0.8847 - val_loss: 0.5751 - val_accuracy: 0.8143\n",
            "Epoch 28/50\n",
            "13/13 [==============================] - 0s 8ms/step - loss: 0.2615 - accuracy: 0.8973 - val_loss: 0.5874 - val_accuracy: 0.8143\n",
            "Epoch 29/50\n",
            "13/13 [==============================] - 0s 9ms/step - loss: 0.2178 - accuracy: 0.9241 - val_loss: 0.6369 - val_accuracy: 0.8186\n",
            "Epoch 30/50\n",
            "13/13 [==============================] - 0s 8ms/step - loss: 0.1840 - accuracy: 0.9395 - val_loss: 0.7370 - val_accuracy: 0.7975\n",
            "Epoch 31/50\n",
            "13/13 [==============================] - 0s 8ms/step - loss: 0.2178 - accuracy: 0.9142 - val_loss: 0.7568 - val_accuracy: 0.8101\n",
            "Epoch 32/50\n",
            "13/13 [==============================] - 0s 8ms/step - loss: 0.2643 - accuracy: 0.8903 - val_loss: 0.9526 - val_accuracy: 0.7173\n",
            "Epoch 33/50\n",
            "13/13 [==============================] - 0s 8ms/step - loss: 0.7647 - accuracy: 0.7215 - val_loss: 0.7981 - val_accuracy: 0.7046\n",
            "Epoch 34/50\n",
            "13/13 [==============================] - 0s 8ms/step - loss: 0.4864 - accuracy: 0.7989 - val_loss: 0.6042 - val_accuracy: 0.7848\n",
            "Epoch 35/50\n",
            "13/13 [==============================] - 0s 8ms/step - loss: 0.3329 - accuracy: 0.8903 - val_loss: 0.5692 - val_accuracy: 0.8143\n",
            "Epoch 36/50\n",
            "13/13 [==============================] - 0s 8ms/step - loss: 0.2760 - accuracy: 0.9015 - val_loss: 0.6638 - val_accuracy: 0.7511\n",
            "Epoch 37/50\n",
            "13/13 [==============================] - 0s 8ms/step - loss: 0.2801 - accuracy: 0.9001 - val_loss: 0.6776 - val_accuracy: 0.7595\n",
            "Epoch 38/50\n",
            "13/13 [==============================] - 0s 8ms/step - loss: 0.2076 - accuracy: 0.9283 - val_loss: 0.5844 - val_accuracy: 0.8017\n",
            "Epoch 39/50\n",
            "13/13 [==============================] - 0s 8ms/step - loss: 0.2030 - accuracy: 0.9325 - val_loss: 0.6858 - val_accuracy: 0.7975\n",
            "Epoch 40/50\n",
            "13/13 [==============================] - 0s 8ms/step - loss: 0.1834 - accuracy: 0.9367 - val_loss: 0.6926 - val_accuracy: 0.8186\n",
            "Epoch 41/50\n",
            "13/13 [==============================] - 0s 7ms/step - loss: 0.2011 - accuracy: 0.9255 - val_loss: 0.6679 - val_accuracy: 0.7848\n",
            "Epoch 42/50\n",
            "13/13 [==============================] - 0s 9ms/step - loss: 0.2081 - accuracy: 0.9212 - val_loss: 0.6848 - val_accuracy: 0.8101\n",
            "Epoch 43/50\n",
            "13/13 [==============================] - 0s 8ms/step - loss: 0.1811 - accuracy: 0.9297 - val_loss: 0.7765 - val_accuracy: 0.7932\n",
            "Epoch 44/50\n",
            "13/13 [==============================] - 0s 8ms/step - loss: 0.1566 - accuracy: 0.9409 - val_loss: 0.8400 - val_accuracy: 0.7764\n",
            "Epoch 45/50\n",
            "13/13 [==============================] - 0s 8ms/step - loss: 0.2047 - accuracy: 0.9241 - val_loss: 0.6566 - val_accuracy: 0.7932\n",
            "Epoch 46/50\n",
            "13/13 [==============================] - 0s 9ms/step - loss: 0.1472 - accuracy: 0.9508 - val_loss: 0.9123 - val_accuracy: 0.7848\n",
            "Epoch 47/50\n",
            "13/13 [==============================] - 0s 8ms/step - loss: 0.1468 - accuracy: 0.9466 - val_loss: 0.8110 - val_accuracy: 0.8186\n",
            "Epoch 48/50\n",
            "13/13 [==============================] - 0s 8ms/step - loss: 0.1221 - accuracy: 0.9648 - val_loss: 0.8643 - val_accuracy: 0.8101\n",
            "Epoch 49/50\n",
            "13/13 [==============================] - 0s 8ms/step - loss: 0.1260 - accuracy: 0.9634 - val_loss: 0.8190 - val_accuracy: 0.8143\n",
            "Epoch 50/50\n",
            "13/13 [==============================] - 0s 8ms/step - loss: 0.0986 - accuracy: 0.9634 - val_loss: 0.7883 - val_accuracy: 0.8101\n"
          ],
          "name": "stdout"
        }
      ]
    },
    {
      "cell_type": "code",
      "metadata": {
        "colab": {
          "base_uri": "https://localhost:8080/",
          "height": 590
        },
        "id": "pWyrCTSlURxN",
        "outputId": "68433180-06eb-4c42-9b12-14ed4878cd0b"
      },
      "source": [
        "import matplotlib.pyplot as plt\n",
        "\n",
        "print(H.history.keys())\n",
        "# summarize history for accuracy\n",
        "plt.plot(H.history['accuracy'])\n",
        "plt.plot(H.history['val_accuracy'])\n",
        "plt.title('model accuracy')\n",
        "plt.ylabel('accuracy')\n",
        "plt.xlabel('epoch')\n",
        "plt.legend(['train', 'test'], loc='upper left')\n",
        "plt.show()\n",
        "# summarize history for loss\n",
        "plt.plot(H.history['loss'])\n",
        "plt.plot(H.history['val_loss'])\n",
        "plt.title('model loss')\n",
        "plt.ylabel('loss')\n",
        "plt.xlabel('epoch')\n",
        "plt.legend(['train', 'test'], loc='upper left')\n",
        "plt.show()"
      ],
      "execution_count": 165,
      "outputs": [
        {
          "output_type": "stream",
          "text": [
            "dict_keys(['loss', 'accuracy', 'val_loss', 'val_accuracy'])\n"
          ],
          "name": "stdout"
        },
        {
          "output_type": "display_data",
          "data": {
            "image/png": "[encoded data removed]",
            "text/plain": [
              "<Figure size 432x288 with 1 Axes>"
            ]
          },
          "metadata": {
            "tags": [],
            "needs_background": "light"
          }
        },
        {
          "output_type": "display_data",
          "data": {
            "image/png": "[encoded data removed]",
            "text/plain": [
              "<Figure size 432x288 with 1 Axes>"
            ]
          },
          "metadata": {
            "tags": [],
            "needs_background": "light"
          }
        }
      ]
    },
    {
      "cell_type": "code",
      "metadata": {
        "colab": {
          "base_uri": "https://localhost:8080/"
        },
        "id": "7ZfKeDQwUqLN",
        "outputId": "9932b2e9-7f8d-47d2-f085-dae89836a729"
      },
      "source": [
        "# evaluate the network\n",
        "print(\"[INFO] evaluating network...\")\n",
        "predictions = model.predict(testX, batch_size=45)\n",
        "print(classification_report(testY.argmax(axis=1),\n",
        "\tpredictions.argmax(axis=1), target_names=lb.classes_))"
      ],
      "execution_count": 166,
      "outputs": [
        {
          "output_type": "stream",
          "text": [
            "[INFO] evaluating network...\n",
            "WARNING:tensorflow:Model was constructed with shape (None, 3072) for input Tensor(\"flatten_11_input:0\", shape=(None, 3072), dtype=float32), but it was called on an input with incompatible shape (None, 32, 32, 3).\n",
            "              precision    recall  f1-score   support\n",
            "\n",
            "       coast       0.77      0.90      0.83        89\n",
            "      forest       0.90      0.77      0.83        82\n",
            "     highway       0.78      0.74      0.76        66\n",
            "\n",
            "    accuracy                           0.81       237\n",
            "   macro avg       0.82      0.80      0.81       237\n",
            "weighted avg       0.82      0.81      0.81       237\n",
            "\n"
          ],
          "name": "stdout"
        }
      ]
    }
  ]
}