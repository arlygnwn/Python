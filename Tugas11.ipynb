{
  "nbformat": 4,
  "nbformat_minor": 0,
  "metadata": {
    "colab": {
      "name": "Tugas11.ipynb",
      "provenance": [],
      "mount_file_id": "1T8urn3FbC-wfVVPCuHGCzY_KsORDvkKd",
      "authorship_tag": "ABX9TyPIieQ9l0c8lIhbTFNHYK4h",
      "include_colab_link": true
    },
    "kernelspec": {
      "name": "python3",
      "display_name": "Python 3"
    }
  },
  "cells": [
    {
      "cell_type": "markdown",
      "metadata": {
        "id": "view-in-github",
        "colab_type": "text"
      },
      "source": [
        "<a href=\"https://colab.research.google.com/github/arlygnwn/Python/blob/main/Tugas11.ipynb\" target=\"_parent\"><img src=\"https://colab.research.google.com/assets/colab-badge.svg\" alt=\"Open In Colab\"/></a>"
      ]
    },
    {
      "cell_type": "code",
      "metadata": {
        "id": "Yl8hTR1hmOKl",
        "colab": {
          "base_uri": "https://localhost:8080/"
        },
        "outputId": "a705afd3-7df8-4d2e-a297-afe35be88ef0"
      },
      "source": [
        "cd /content/drive/MyDrive/Colab Notebooks"
      ],
      "execution_count": 18,
      "outputs": [
        {
          "output_type": "stream",
          "text": [
            "/content/drive/MyDrive/Colab Notebooks\n"
          ],
          "name": "stdout"
        }
      ]
    },
    {
      "cell_type": "code",
      "metadata": {
        "colab": {
          "base_uri": "https://localhost:8080/"
        },
        "id": "Di1Zn9OePuj5",
        "outputId": "6104e43c-6ec5-4cca-84e0-dafd0abfb817"
      },
      "source": [
        "ls   "
      ],
      "execution_count": 20,
      "outputs": [
        {
          "output_type": "stream",
          "text": [
            " \u001b[0m\u001b[01;34mCNN\u001b[0m/  'Copy of scenes_nn_4 layers.ipynb'   \u001b[01;34mNN\u001b[0m/   Tugas10.ipynb   Tugas11.ipynb\n"
          ],
          "name": "stdout"
        }
      ]
    },
    {
      "cell_type": "code",
      "metadata": {
        "id": "ULqEiNsyPvTf"
      },
      "source": [
        "# import the necessary packages\n",
        "from keras.models import Sequential\n",
        "from keras.layers.core import Activation\n",
        "from keras.layers.core import Flatten\n",
        "from keras.layers.core import Dense\n",
        "from keras.optimizers import Adam\n",
        "from sklearn.preprocessing import LabelBinarizer\n",
        "from sklearn.model_selection import train_test_split\n",
        "from sklearn.metrics import classification_report\n",
        "from PIL import Image\n",
        "from imutils import paths\n",
        "import numpy as np\n",
        "import os"
      ],
      "execution_count": 21,
      "outputs": []
    },
    {
      "cell_type": "code",
      "metadata": {
        "colab": {
          "base_uri": "https://localhost:8080/"
        },
        "id": "zLJIdzDrPxgX",
        "outputId": "e845f0cb-7bc6-4490-ea3e-04e57f4b9872"
      },
      "source": [
        "\n",
        "# grab all image paths in the input dataset directory, then initialize\n",
        "# our list of images and corresponding class labels\n",
        "print(\"[INFO] loading images...\")\n",
        "imagePaths = paths.list_images(\"CNN\")\n",
        "data = []\n",
        "labels = []"
      ],
      "execution_count": 22,
      "outputs": [
        {
          "output_type": "stream",
          "text": [
            "[INFO] loading images...\n"
          ],
          "name": "stdout"
        }
      ]
    },
    {
      "cell_type": "code",
      "metadata": {
        "id": "dUPxvYEBP0t3"
      },
      "source": [
        "# loop over our input images\n",
        "for imagePath in imagePaths:\n",
        "\t# load the input image from disk, resize it to 32X32 pixels, scale\n",
        "\t# the pixel intensities to the range [0, 1], and then update our\n",
        "\t# images list\n",
        "\timage = Image.open(imagePath)\n",
        "  #preprocessing\n",
        "\timage = np.array(image.resize((32, 32))) / 255.0 #normalisasi\n",
        "\tdata.append(image)\n",
        "\n",
        "\t# extract the class label from the file path and update the\n",
        "\t# labels list\n",
        "\tlabel = imagePath.split(os.path.sep)[-2]\n",
        "\tlabels.append(label)"
      ],
      "execution_count": 23,
      "outputs": []
    },
    {
      "cell_type": "code",
      "metadata": {
        "colab": {
          "base_uri": "https://localhost:8080/"
        },
        "id": "EWR2J9y8P6yY",
        "outputId": "1c1f81ea-453b-4485-9236-15f7509a9303"
      },
      "source": [
        "print(labels)"
      ],
      "execution_count": 29,
      "outputs": [
        {
          "output_type": "stream",
          "text": [
            "['GMB_01', 'GMB_01', 'GMB_01', 'GMB_01', 'GMB_01', 'GMB_01', 'GMB_01', 'GMB_01', 'GMB_01', 'GMB_01', 'GMB_01', 'GMB_01', 'GMB_01', 'GMB_01', 'GMB_01', 'GMB_01', 'GMB_01', 'GMB_01', 'GMB_01', 'GMB_01', 'GMB_01', 'GMB_01', 'GMB_01', 'GMB_01', 'GMB_01', 'GMB_01', 'GMB_01', 'GMB_01', 'GMB_01', 'GMB_01', 'GMB_01', 'GMB_01', 'GMB_01', 'GMB_01', 'GMB_01', 'GMB_01', 'GMB_01', 'GMB_01', 'GMB_01', 'GMB_01', 'GMB_01', 'GMB_01', 'GMB_01', 'GMB_01', 'GMB_01', 'GMB_01', 'GMB_01', 'GMB_01', 'GMB_01', 'GMB_01', 'GMB_01', 'GMB_01', 'GMB_01', 'GMB_01', 'GMB_01', 'GMB_01', 'GMB_01', 'GMB_01', 'GMB_01', 'GMB_01', 'GMB_01', 'GMB_01', 'GMB_01', 'GMB_01', 'GMB_01', 'GMB_01', 'GMB_01', 'GMB_01', 'GMB_01', 'GMB_01', 'GMB_01', 'GMB_01', 'GMB_01', 'GMB_01', 'GMB_01', 'GMB_01', 'GMB_01', 'GMB_01', 'GMB_01', 'GMB_01', 'GMB_01', 'GMB_01', 'GMB_01', 'GMB_01', 'GMB_01', 'GMB_01', 'GMB_01', 'GMB_01', 'GMB_01', 'GMB_01', 'GMB_01', 'GMB_01', 'GMB_01', 'GMB_01', 'GMB_01', 'GMB_01', 'GMB_01', 'GMB_01', 'GMB_01', 'GMB_01', 'GMB_01', 'GMB_01', 'GMB_01', 'GMB_01', 'GMB_01', 'GMB_01', 'GMB_01', 'GMB_01', 'GMB_01', 'GMB_01', 'GMB_01', 'GMB_01', 'GMB_01', 'GMB_01', 'GMB_01', 'GMB_01', 'GMB_11', 'GMB_11', 'GMB_11', 'GMB_11', 'GMB_11', 'GMB_11', 'GMB_11', 'GMB_11', 'GMB_11', 'GMB_11', 'GMB_11', 'GMB_11', 'GMB_11', 'GMB_11', 'GMB_11', 'GMB_11', 'GMB_11', 'GMB_11', 'GMB_11', 'GMB_11', 'GMB_11', 'GMB_11', 'GMB_11', 'GMB_11', 'GMB_11', 'GMB_11', 'GMB_11', 'GMB_11', 'GMB_11', 'GMB_11', 'GMB_11', 'GMB_11', 'GMB_11', 'GMB_11', 'GMB_11', 'GMB_11', 'GMB_11', 'GMB_11', 'GMB_11', 'GMB_11', 'GMB_11', 'GMB_11', 'GMB_11', 'GMB_11', 'GMB_11', 'GMB_11', 'GMB_11', 'GMB_11', 'GMB_11', 'GMB_11', 'GMB_11', 'GMB_11', 'GMB_11', 'GMB_11', 'GMB_11', 'GMB_11', 'GMB_11', 'GMB_11', 'GMB_11', 'GMB_11', 'GMB_11', 'GMB_11', 'GMB_11', 'GMB_11', 'GMB_11', 'GMB_11', 'GMB_11', 'GMB_11', 'GMB_11', 'GMB_11', 'GMB_11', 'GMB_11', 'GMB_11', 'GMB_11', 'GMB_11', 'GMB_11', 'GMB_11', 'GMB_11', 'GMB_11', 'GMB_11', 'GMB_11', 'GMB_11', 'GMB_11', 'GMB_11', 'GMB_11', 'GMB_11', 'GMB_11', 'GMB_11', 'GMB_11', 'GMB_11', 'GMB_11', 'GMB_11', 'GMB_11', 'GMB_11', 'GMB_11', 'GMB_11', 'GMB_11', 'GMB_11', 'GMB_11', 'GMB_11', 'GMB_11', 'GMB_11', 'GMB_11', 'GMB_11', 'GMB_11', 'GMB_11', 'GMB_11', 'GMB_11', 'GMB_11', 'GMB_11', 'GMB_11', 'GMB_11', 'GMB_11', 'GMB_11', 'GMB_11', 'GMB_11', 'GMB_11', 'GMB_11', 'GMB_11', 'GMB_11', 'GMB_11', 'GMB_11', 'GMB_11', 'GMB_11', 'GMB_11', 'GMB_11', 'GMB_11', 'GMB_11', 'GMB_11', 'GMB_03', 'GMB_03', 'GMB_03', 'GMB_03', 'GMB_03', 'GMB_03', 'GMB_03', 'GMB_03', 'GMB_03', 'GMB_03', 'GMB_03', 'GMB_03', 'GMB_03', 'GMB_03', 'GMB_03', 'GMB_03', 'GMB_03', 'GMB_03', 'GMB_03', 'GMB_03', 'GMB_03', 'GMB_03', 'GMB_03', 'GMB_03', 'GMB_03', 'GMB_03', 'GMB_03', 'GMB_03', 'GMB_03', 'GMB_03', 'GMB_03', 'GMB_03', 'GMB_03', 'GMB_03', 'GMB_03', 'GMB_03', 'GMB_03', 'GMB_03', 'GMB_03', 'GMB_03', 'GMB_03', 'GMB_03', 'GMB_03', 'GMB_03', 'GMB_03', 'GMB_03', 'GMB_03', 'GMB_03', 'GMB_03', 'GMB_03', 'GMB_03', 'GMB_03', 'GMB_03', 'GMB_03', 'GMB_03', 'GMB_03', 'GMB_03', 'GMB_03', 'GMB_03', 'GMB_03', 'GMB_03', 'GMB_03', 'GMB_03', 'GMB_03', 'GMB_03', 'GMB_03', 'GMB_03', 'GMB_03', 'GMB_03', 'GMB_03', 'GMB_03', 'GMB_03', 'GMB_03', 'GMB_03', 'GMB_03', 'GMB_03', 'GMB_03', 'GMB_03', 'GMB_03', 'GMB_03', 'GMB_03', 'GMB_03', 'GMB_03', 'GMB_03', 'GMB_03', 'GMB_03', 'GMB_03', 'GMB_03', 'GMB_03', 'GMB_03', 'GMB_03', 'GMB_03', 'GMB_03', 'GMB_03', 'GMB_03', 'GMB_03', 'GMB_03', 'GMB_03', 'GMB_03', 'GMB_03', 'GMB_03', 'GMB_03', 'GMB_03', 'GMB_03', 'GMB_03', 'GMB_03', 'GMB_03', 'GMB_03', 'GMB_03', 'GMB_03', 'GMB_03', 'GMB_03', 'GMB_06', 'GMB_06', 'GMB_06', 'GMB_06', 'GMB_06', 'GMB_06', 'GMB_06', 'GMB_06', 'GMB_06', 'GMB_06', 'GMB_06', 'GMB_06', 'GMB_06', 'GMB_06', 'GMB_06', 'GMB_06', 'GMB_06', 'GMB_06', 'GMB_06', 'GMB_06', 'GMB_06', 'GMB_06', 'GMB_06', 'GMB_06', 'GMB_06', 'GMB_06', 'GMB_06', 'GMB_06', 'GMB_06', 'GMB_06', 'GMB_06', 'GMB_06', 'GMB_06', 'GMB_06', 'GMB_06', 'GMB_06', 'GMB_06', 'GMB_06', 'GMB_06', 'GMB_06', 'GMB_06', 'GMB_06', 'GMB_06', 'GMB_06', 'GMB_06', 'GMB_06', 'GMB_06', 'GMB_06', 'GMB_06', 'GMB_06', 'GMB_06', 'GMB_06', 'GMB_06', 'GMB_06', 'GMB_06', 'GMB_06', 'GMB_06', 'GMB_06', 'GMB_06', 'GMB_06', 'GMB_06', 'GMB_06', 'GMB_06', 'GMB_06', 'GMB_06', 'GMB_06', 'GMB_06', 'GMB_06', 'GMB_06', 'GMB_06', 'GMB_06', 'GMB_06', 'GMB_06', 'GMB_06', 'GMB_06', 'GMB_06', 'GMB_06', 'GMB_06', 'GMB_06', 'GMB_06', 'GMB_06', 'GMB_06', 'GMB_06', 'GMB_06', 'GMB_06', 'GMB_06', 'GMB_06', 'GMB_06', 'GMB_06', 'GMB_06', 'GMB_06', 'GMB_06', 'GMB_06', 'GMB_06', 'GMB_06', 'GMB_06', 'GMB_06', 'GMB_06', 'GMB_06', 'GMB_06', 'GMB_06', 'GMB_06', 'GMB_06', 'GMB_06', 'GMB_06', 'GMB_06', 'GMB_06', 'GMB_06', 'GMB_06', 'GMB_06', 'GMB_06', 'GMB_06', 'GMB_06', 'GMB_06', 'GMB_06', 'GMB_06', 'GMB_06', 'GMB_06', 'GMB_06', 'GMB_06', 'GMB_06', 'GMB_09', 'GMB_09', 'GMB_09', 'GMB_09', 'GMB_09', 'GMB_09', 'GMB_09', 'GMB_09', 'GMB_09', 'GMB_09', 'GMB_09', 'GMB_09', 'GMB_09', 'GMB_09', 'GMB_09', 'GMB_09', 'GMB_09', 'GMB_09', 'GMB_09', 'GMB_09', 'GMB_09', 'GMB_09', 'GMB_09', 'GMB_09', 'GMB_09', 'GMB_09', 'GMB_09', 'GMB_09', 'GMB_09', 'GMB_09', 'GMB_09', 'GMB_09', 'GMB_09', 'GMB_09', 'GMB_09', 'GMB_09', 'GMB_09', 'GMB_09', 'GMB_09', 'GMB_09', 'GMB_09', 'GMB_09', 'GMB_09', 'GMB_09', 'GMB_09', 'GMB_09', 'GMB_09', 'GMB_09', 'GMB_09', 'GMB_09', 'GMB_09', 'GMB_09', 'GMB_09', 'GMB_09', 'GMB_09', 'GMB_09', 'GMB_09', 'GMB_09', 'GMB_09', 'GMB_09', 'GMB_09', 'GMB_09', 'GMB_09', 'GMB_09', 'GMB_09', 'GMB_09', 'GMB_09', 'GMB_09', 'GMB_09', 'GMB_09', 'GMB_09', 'GMB_09', 'GMB_09', 'GMB_09', 'GMB_09', 'GMB_09', 'GMB_09', 'GMB_09', 'GMB_09', 'GMB_09', 'GMB_09', 'GMB_09', 'GMB_09', 'GMB_09', 'GMB_09', 'GMB_09', 'GMB_09', 'GMB_09', 'GMB_09', 'GMB_09', 'GMB_09', 'GMB_09', 'GMB_09', 'GMB_09', 'GMB_09', 'GMB_09', 'GMB_09', 'GMB_09', 'GMB_09', 'GMB_09', 'GMB_09', 'GMB_09', 'GMB_09', 'GMB_09', 'GMB_09', 'GMB_09', 'GMB_09', 'GMB_09', 'GMB_09', 'GMB_09', 'GMB_09', 'GMB_09', 'GMB_09', 'GMB_09', 'GMB_09']\n"
          ],
          "name": "stdout"
        }
      ]
    },
    {
      "cell_type": "code",
      "metadata": {
        "id": "dunS4GWldKkD"
      },
      "source": [
        "lb = LabelBinarizer()\n",
        "labels = lb.fit_transform(labels)"
      ],
      "execution_count": 30,
      "outputs": []
    },
    {
      "cell_type": "code",
      "metadata": {
        "colab": {
          "base_uri": "https://localhost:8080/"
        },
        "id": "cvx5WoFOio7u",
        "outputId": "f889da37-5a9d-43a6-9e95-68989d52352e"
      },
      "source": [
        "print(labels)"
      ],
      "execution_count": 31,
      "outputs": [
        {
          "output_type": "stream",
          "text": [
            "[[1 0 0 0 0]\n",
            " [1 0 0 0 0]\n",
            " [1 0 0 0 0]\n",
            " ...\n",
            " [0 0 0 1 0]\n",
            " [0 0 0 1 0]\n",
            " [0 0 0 1 0]]\n"
          ],
          "name": "stdout"
        }
      ]
    },
    {
      "cell_type": "code",
      "metadata": {
        "colab": {
          "base_uri": "https://localhost:8080/"
        },
        "id": "XFxLuXfdiqRz",
        "outputId": "363c7464-b08a-406b-adb4-def02989e3b6"
      },
      "source": [
        "# perform a training and testing split, using 75% of the data for\n",
        "# training and 25% for evaluation\n",
        "(trainX, testX, trainY, testY) = train_test_split(np.array(data),\tnp.array(labels), test_size=0.25, shuffle=True)\n",
        "print(trainX.shape)\n",
        "print(testX.shape)"
      ],
      "execution_count": 32,
      "outputs": [
        {
          "output_type": "stream",
          "text": [
            "(444, 32, 32, 3)\n",
            "(149, 32, 32, 3)\n"
          ],
          "name": "stdout"
        }
      ]
    },
    {
      "cell_type": "code",
      "metadata": {
        "colab": {
          "base_uri": "https://localhost:8080/"
        },
        "id": "eOOGeeVZi-Fm",
        "outputId": "1e9683d0-6a03-4535-e351-bce4ae65e456"
      },
      "source": [
        "from keras.layers import Convolution2D, MaxPooling2D\n",
        "from keras.models import Sequential\n",
        "from keras.layers.core import Flatten, Dense\n",
        "\n",
        "model1 = Sequential()\n",
        "model1.add(Convolution2D(32, (3,3), activation='relu', input_shape=(32,32,3)))\n",
        "model1.add(MaxPooling2D(2,2))\n",
        "model1.add(Convolution2D(64, (3,3), activation='relu'))\n",
        "model1.add(MaxPooling2D(2,2))\n",
        "model1.add(Convolution2D(64, (3,3), activation='relu'))\n",
        "model1.add(MaxPooling2D(2,2))\n",
        "#fully connected layer\n",
        "model1.add(Flatten())\n",
        "model1.add(Dense(100, activation='relu'))\n",
        "model1.add(Dense(5, activation='softmax'))\n",
        "\n",
        "model1.summary()"
      ],
      "execution_count": 147,
      "outputs": [
        {
          "output_type": "stream",
          "text": [
            "Model: \"sequential_53\"\n",
            "_________________________________________________________________\n",
            "Layer (type)                 Output Shape              Param #   \n",
            "=================================================================\n",
            "conv2d_147 (Conv2D)          (None, 30, 30, 32)        896       \n",
            "_________________________________________________________________\n",
            "max_pooling2d_126 (MaxPoolin (None, 15, 15, 32)        0         \n",
            "_________________________________________________________________\n",
            "conv2d_148 (Conv2D)          (None, 13, 13, 64)        18496     \n",
            "_________________________________________________________________\n",
            "max_pooling2d_127 (MaxPoolin (None, 6, 6, 64)          0         \n",
            "_________________________________________________________________\n",
            "conv2d_149 (Conv2D)          (None, 4, 4, 64)          36928     \n",
            "_________________________________________________________________\n",
            "max_pooling2d_128 (MaxPoolin (None, 2, 2, 64)          0         \n",
            "_________________________________________________________________\n",
            "flatten_19 (Flatten)         (None, 256)               0         \n",
            "_________________________________________________________________\n",
            "dense_38 (Dense)             (None, 100)               25700     \n",
            "_________________________________________________________________\n",
            "dense_39 (Dense)             (None, 5)                 505       \n",
            "=================================================================\n",
            "Total params: 82,525\n",
            "Trainable params: 82,525\n",
            "Non-trainable params: 0\n",
            "_________________________________________________________________\n"
          ],
          "name": "stdout"
        }
      ]
    },
    {
      "cell_type": "code",
      "metadata": {
        "id": "BI7F_jOfjAfO",
        "colab": {
          "base_uri": "https://localhost:8080/"
        },
        "outputId": "c88ad5ba-85c2-46bc-b638-5a035cf3deb3"
      },
      "source": [
        "# train the model using the Adam optimizer\n",
        "print(\"[INFO] training network...\")\n",
        "opt = Adam(lr=1e-3, decay=1e-3 / 50)\n",
        "model1.compile(loss=\"categorical_crossentropy\", optimizer=opt, metrics=[\"accuracy\"])"
      ],
      "execution_count": 151,
      "outputs": [
        {
          "output_type": "stream",
          "text": [
            "[INFO] training network...\n"
          ],
          "name": "stdout"
        }
      ]
    },
    {
      "cell_type": "code",
      "metadata": {
        "colab": {
          "base_uri": "https://localhost:8080/"
        },
        "id": "xsuPl8lfqzKy",
        "outputId": "644c9006-3157-4c85-b709-1a1532a47251"
      },
      "source": [
        "H = model1.fit(trainX, trainY, validation_data=(testX, testY), epochs=38, batch_size=42)"
      ],
      "execution_count": 152,
      "outputs": [
        {
          "output_type": "stream",
          "text": [
            "Epoch 1/38\n",
            "11/11 [==============================] - 1s 64ms/step - loss: 1.5958 - accuracy: 0.2387 - val_loss: 1.5481 - val_accuracy: 0.3356\n",
            "Epoch 2/38\n",
            "11/11 [==============================] - 1s 54ms/step - loss: 1.4847 - accuracy: 0.4009 - val_loss: 1.3992 - val_accuracy: 0.4027\n",
            "Epoch 3/38\n",
            "11/11 [==============================] - 1s 54ms/step - loss: 1.3036 - accuracy: 0.4775 - val_loss: 1.2583 - val_accuracy: 0.4497\n",
            "Epoch 4/38\n",
            "11/11 [==============================] - 1s 54ms/step - loss: 1.1435 - accuracy: 0.5608 - val_loss: 1.2242 - val_accuracy: 0.4564\n",
            "Epoch 5/38\n",
            "11/11 [==============================] - 1s 55ms/step - loss: 1.0482 - accuracy: 0.5743 - val_loss: 1.0973 - val_accuracy: 0.5369\n",
            "Epoch 6/38\n",
            "11/11 [==============================] - 1s 54ms/step - loss: 0.9935 - accuracy: 0.5946 - val_loss: 1.0549 - val_accuracy: 0.5168\n",
            "Epoch 7/38\n",
            "11/11 [==============================] - 1s 53ms/step - loss: 0.9393 - accuracy: 0.6126 - val_loss: 1.0513 - val_accuracy: 0.5839\n",
            "Epoch 8/38\n",
            "11/11 [==============================] - 1s 55ms/step - loss: 0.9269 - accuracy: 0.6261 - val_loss: 0.9310 - val_accuracy: 0.5839\n",
            "Epoch 9/38\n",
            "11/11 [==============================] - 1s 53ms/step - loss: 0.8272 - accuracy: 0.6824 - val_loss: 0.9116 - val_accuracy: 0.6107\n",
            "Epoch 10/38\n",
            "11/11 [==============================] - 1s 53ms/step - loss: 0.7621 - accuracy: 0.6937 - val_loss: 0.8876 - val_accuracy: 0.6510\n",
            "Epoch 11/38\n",
            "11/11 [==============================] - 1s 56ms/step - loss: 0.7712 - accuracy: 0.7050 - val_loss: 0.8238 - val_accuracy: 0.7114\n",
            "Epoch 12/38\n",
            "11/11 [==============================] - 1s 53ms/step - loss: 0.7152 - accuracy: 0.7432 - val_loss: 0.8524 - val_accuracy: 0.6309\n",
            "Epoch 13/38\n",
            "11/11 [==============================] - 1s 53ms/step - loss: 0.6762 - accuracy: 0.7207 - val_loss: 0.7956 - val_accuracy: 0.6913\n",
            "Epoch 14/38\n",
            "11/11 [==============================] - 1s 55ms/step - loss: 0.6081 - accuracy: 0.7995 - val_loss: 0.7785 - val_accuracy: 0.6577\n",
            "Epoch 15/38\n",
            "11/11 [==============================] - 1s 53ms/step - loss: 0.6374 - accuracy: 0.7275 - val_loss: 0.9047 - val_accuracy: 0.6443\n",
            "Epoch 16/38\n",
            "11/11 [==============================] - 1s 54ms/step - loss: 0.6133 - accuracy: 0.7680 - val_loss: 0.7856 - val_accuracy: 0.6913\n",
            "Epoch 17/38\n",
            "11/11 [==============================] - 1s 54ms/step - loss: 0.5628 - accuracy: 0.8018 - val_loss: 0.7144 - val_accuracy: 0.7181\n",
            "Epoch 18/38\n",
            "11/11 [==============================] - 1s 53ms/step - loss: 0.5240 - accuracy: 0.8018 - val_loss: 0.7276 - val_accuracy: 0.7383\n",
            "Epoch 19/38\n",
            "11/11 [==============================] - 1s 54ms/step - loss: 0.4913 - accuracy: 0.8198 - val_loss: 0.6987 - val_accuracy: 0.7383\n",
            "Epoch 20/38\n",
            "11/11 [==============================] - 1s 54ms/step - loss: 0.4616 - accuracy: 0.8378 - val_loss: 0.6706 - val_accuracy: 0.7584\n",
            "Epoch 21/38\n",
            "11/11 [==============================] - 1s 54ms/step - loss: 0.4076 - accuracy: 0.8739 - val_loss: 0.6935 - val_accuracy: 0.7248\n",
            "Epoch 22/38\n",
            "11/11 [==============================] - 1s 53ms/step - loss: 0.3836 - accuracy: 0.8626 - val_loss: 0.6479 - val_accuracy: 0.7651\n",
            "Epoch 23/38\n",
            "11/11 [==============================] - 1s 55ms/step - loss: 0.3731 - accuracy: 0.8739 - val_loss: 0.6428 - val_accuracy: 0.7852\n",
            "Epoch 24/38\n",
            "11/11 [==============================] - 1s 54ms/step - loss: 0.3674 - accuracy: 0.8716 - val_loss: 0.6020 - val_accuracy: 0.7852\n",
            "Epoch 25/38\n",
            "11/11 [==============================] - 1s 54ms/step - loss: 0.3760 - accuracy: 0.8851 - val_loss: 0.6252 - val_accuracy: 0.7383\n",
            "Epoch 26/38\n",
            "11/11 [==============================] - 1s 54ms/step - loss: 0.2941 - accuracy: 0.9077 - val_loss: 0.6169 - val_accuracy: 0.7651\n",
            "Epoch 27/38\n",
            "11/11 [==============================] - 1s 54ms/step - loss: 0.2764 - accuracy: 0.9122 - val_loss: 0.6606 - val_accuracy: 0.7718\n",
            "Epoch 28/38\n",
            "11/11 [==============================] - 1s 54ms/step - loss: 0.2544 - accuracy: 0.9279 - val_loss: 0.6116 - val_accuracy: 0.7852\n",
            "Epoch 29/38\n",
            "11/11 [==============================] - 1s 53ms/step - loss: 0.2694 - accuracy: 0.9077 - val_loss: 0.6351 - val_accuracy: 0.7718\n",
            "Epoch 30/38\n",
            "11/11 [==============================] - 1s 54ms/step - loss: 0.2903 - accuracy: 0.9099 - val_loss: 0.6583 - val_accuracy: 0.7852\n",
            "Epoch 31/38\n",
            "11/11 [==============================] - 1s 54ms/step - loss: 0.2783 - accuracy: 0.9009 - val_loss: 0.6750 - val_accuracy: 0.7450\n",
            "Epoch 32/38\n",
            "11/11 [==============================] - 1s 53ms/step - loss: 0.2497 - accuracy: 0.9054 - val_loss: 0.6144 - val_accuracy: 0.7517\n",
            "Epoch 33/38\n",
            "11/11 [==============================] - 1s 54ms/step - loss: 0.2174 - accuracy: 0.9302 - val_loss: 0.6861 - val_accuracy: 0.7584\n",
            "Epoch 34/38\n",
            "11/11 [==============================] - 1s 54ms/step - loss: 0.2461 - accuracy: 0.9167 - val_loss: 0.6246 - val_accuracy: 0.7785\n",
            "Epoch 35/38\n",
            "11/11 [==============================] - 1s 54ms/step - loss: 0.2547 - accuracy: 0.9054 - val_loss: 0.7719 - val_accuracy: 0.7450\n",
            "Epoch 36/38\n",
            "11/11 [==============================] - 1s 56ms/step - loss: 0.2145 - accuracy: 0.9167 - val_loss: 0.7945 - val_accuracy: 0.7047\n",
            "Epoch 37/38\n",
            "11/11 [==============================] - 1s 55ms/step - loss: 0.2128 - accuracy: 0.9324 - val_loss: 0.5844 - val_accuracy: 0.7919\n",
            "Epoch 38/38\n",
            "11/11 [==============================] - 1s 57ms/step - loss: 0.1676 - accuracy: 0.9527 - val_loss: 0.5834 - val_accuracy: 0.8188\n"
          ],
          "name": "stdout"
        }
      ]
    },
    {
      "cell_type": "code",
      "metadata": {
        "colab": {
          "base_uri": "https://localhost:8080/",
          "height": 590
        },
        "id": "YlXpuZa4q9QT",
        "outputId": "0c8d7818-8312-42de-cb40-649452965892"
      },
      "source": [
        "import matplotlib.pyplot as plt\n",
        "\n",
        "print(H.history.keys())\n",
        "# summarize history for accuracy\n",
        "plt.plot(H.history['accuracy'])\n",
        "plt.plot(H.history['val_accuracy'])\n",
        "plt.title('model accuracy')\n",
        "plt.ylabel('accuracy')\n",
        "plt.xlabel('epoch')\n",
        "plt.legend(['train', 'test'], loc='upper left')\n",
        "plt.show()\n",
        "# summarize history for loss\n",
        "plt.plot(H.history['loss'])\n",
        "plt.plot(H.history['val_loss'])\n",
        "plt.title('model loss')\n",
        "plt.ylabel('loss')\n",
        "plt.xlabel('epoch')\n",
        "plt.legend(['train', 'test'], loc='upper left')\n",
        "plt.show()"
      ],
      "execution_count": 153,
      "outputs": [
        {
          "output_type": "stream",
          "text": [
            "dict_keys(['loss', 'accuracy', 'val_loss', 'val_accuracy'])\n"
          ],
          "name": "stdout"
        },
        {
          "output_type": "display_data",
          "data": {
            "image/png": "[encoded data removed]",
            "text/plain": [
              "<Figure size 432x288 with 1 Axes>"
            ]
          },
          "metadata": {
            "tags": [],
            "needs_background": "light"
          }
        },
        {
          "output_type": "display_data",
          "data": {
            "image/png": "[encoded data removed]",
            "text/plain": [
              "<Figure size 432x288 with 1 Axes>"
            ]
          },
          "metadata": {
            "tags": [],
            "needs_background": "light"
          }
        }
      ]
    },
    {
      "cell_type": "code",
      "metadata": {
        "colab": {
          "base_uri": "https://localhost:8080/"
        },
        "id": "fn__2DiyrGs9",
        "outputId": "250c4c84-6dd0-4868-ab74-67e4b500a1ac"
      },
      "source": [
        "# evaluate the network\n",
        "print(\"[INFO] evaluating network...\")\n",
        "predictions = model1.predict(testX, batch_size=42)\n",
        "print(classification_report(testY.argmax(axis=1),\n",
        "\tpredictions.argmax(axis=1), target_names=lb.classes_))"
      ],
      "execution_count": 155,
      "outputs": [
        {
          "output_type": "stream",
          "text": [
            "[INFO] evaluating network...\n",
            "              precision    recall  f1-score   support\n",
            "\n",
            "      GMB_01       0.78      0.78      0.78        32\n",
            "      GMB_03       0.84      0.84      0.84        25\n",
            "      GMB_06       0.81      0.74      0.78        35\n",
            "      GMB_09       0.95      0.87      0.91        23\n",
            "      GMB_11       0.77      0.88      0.82        34\n",
            "\n",
            "    accuracy                           0.82       149\n",
            "   macro avg       0.83      0.82      0.83       149\n",
            "weighted avg       0.82      0.82      0.82       149\n",
            "\n"
          ],
          "name": "stdout"
        }
      ]
    },
    {
      "cell_type": "code",
      "metadata": {
        "id": "HtiMRWVFrHVd"
      },
      "source": [
        ""
      ],
      "execution_count": null,
      "outputs": []
    }
  ]
}